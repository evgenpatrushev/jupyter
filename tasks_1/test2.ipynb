{
 "cells": [
  {
   "cell_type": "code",
   "execution_count": 43,
   "metadata": {},
   "outputs": [],
   "source": [
    "import re\n",
    "import numpy as np\n",
    "from scipy.spatial import distance"
   ]
  },
  {
   "cell_type": "code",
   "execution_count": 33,
   "metadata": {},
   "outputs": [],
   "source": [
    "with open('fd_sentences.txt') as file:\n",
    "    text = [line.lower() for line in file]\n",
    "    words = [[word for word in re.split('[^a-z]', line) if word] for line in text]\n",
    "    "
   ]
  },
  {
   "cell_type": "code",
   "execution_count": 38,
   "metadata": {},
   "outputs": [
    {
     "data": {
      "text/plain": [
       "['part',\n",
       " 'mac',\n",
       " 'separate',\n",
       " 'major',\n",
       " 'ancestor',\n",
       " 'run',\n",
       " 'apple',\n",
       " 'useful',\n",
       " 'based',\n",
       " 'genes',\n",
       " 'safari',\n",
       " 'contains',\n",
       " 'permanently',\n",
       " 'domesticated',\n",
       " 'left',\n",
       " 'have',\n",
       " 'streams',\n",
       " 's',\n",
       " 'x',\n",
       " 'since',\n",
       " 'factory',\n",
       " 'unix',\n",
       " 'in',\n",
       " 'it',\n",
       " 'two',\n",
       " 'rather',\n",
       " 'file',\n",
       " 'pipes',\n",
       " 'create',\n",
       " 'without',\n",
       " 'predecessor',\n",
       " 'just',\n",
       " 'later',\n",
       " 'typically',\n",
       " 'starting',\n",
       " 'its',\n",
       " 'the',\n",
       " 'faint',\n",
       " 'human',\n",
       " 'instead',\n",
       " 'chromosomes',\n",
       " 'available',\n",
       " 'their',\n",
       " 'changes',\n",
       " 'releases',\n",
       " 'drive',\n",
       " 'where',\n",
       " 'both',\n",
       " 'moved',\n",
       " 'animals',\n",
       " 'entirely',\n",
       " 'developed',\n",
       " 'during',\n",
       " 'os',\n",
       " 'keyboards',\n",
       " 'as',\n",
       " 'diploid',\n",
       " 'release',\n",
       " 'adjacent',\n",
       " 'made',\n",
       " 'with',\n",
       " 'simply',\n",
       " 'intel',\n",
       " 'interactive',\n",
       " 'named',\n",
       " 'they',\n",
       " 'an',\n",
       " 'some',\n",
       " 'you',\n",
       " 'genus',\n",
       " 'are',\n",
       " 'weighing',\n",
       " 'concatenate',\n",
       " 'by',\n",
       " 'tiger',\n",
       " 'community',\n",
       " 'command',\n",
       " 'between',\n",
       " 'learned',\n",
       " 'july',\n",
       " 'online',\n",
       " 'to',\n",
       " 'be',\n",
       " 'new',\n",
       " 'through',\n",
       " 'cats',\n",
       " 'when',\n",
       " 'computers',\n",
       " 'mountain',\n",
       " 'most',\n",
       " 'processors',\n",
       " 'count',\n",
       " 'linux',\n",
       " 'comparison',\n",
       " 'installation',\n",
       " 'purchase',\n",
       " 'enhancements',\n",
       " 'felis',\n",
       " 'frequency',\n",
       " 'information',\n",
       " 'receives',\n",
       " 'firmware',\n",
       " 'similar',\n",
       " 'too',\n",
       " 'bytes',\n",
       " 'selection',\n",
       " 'wild',\n",
       " 'app',\n",
       " 'patch',\n",
       " 'releasing',\n",
       " 'running',\n",
       " 'legibility',\n",
       " 'wrong',\n",
       " 'default',\n",
       " 'single',\n",
       " 'size',\n",
       " 'read',\n",
       " 'roughly',\n",
       " 'redirection',\n",
       " 'connected',\n",
       " 'non',\n",
       " 'so',\n",
       " 'switch',\n",
       " 'high',\n",
       " 'offered',\n",
       " 'tamed',\n",
       " 'can',\n",
       " 't',\n",
       " 'off',\n",
       " 'features',\n",
       " 'displays',\n",
       " 'year',\n",
       " 'received',\n",
       " 'standard',\n",
       " 'also',\n",
       " 'domestic',\n",
       " 'may',\n",
       " 'need',\n",
       " 'stdout',\n",
       " 'and',\n",
       " 'than',\n",
       " 'members',\n",
       " 'fifth',\n",
       " 'update',\n",
       " 'domestication',\n",
       " 'from',\n",
       " 'installed',\n",
       " 'unnecessary',\n",
       " 'possess',\n",
       " 'world',\n",
       " 'one',\n",
       " 'closest',\n",
       " 'october',\n",
       " 'sounds',\n",
       " 'download',\n",
       " 'yosemite',\n",
       " 'often',\n",
       " 'commands',\n",
       " 'clear',\n",
       " 'safer',\n",
       " 'arguments',\n",
       " 'allow',\n",
       " 'organisms',\n",
       " 'versions',\n",
       " 'external',\n",
       " 'now',\n",
       " 'use',\n",
       " 'dogs',\n",
       " 'mavericks',\n",
       " 'every',\n",
       " 'no',\n",
       " 'redirected',\n",
       " 'mid',\n",
       " 'content',\n",
       " 'for',\n",
       " 'binary',\n",
       " 'a',\n",
       " 'has',\n",
       " 'disk',\n",
       " 'stdin',\n",
       " 'store',\n",
       " 'was',\n",
       " 'recent',\n",
       " 'hear',\n",
       " 'flow',\n",
       " 'longer',\n",
       " 'symbols',\n",
       " 'marks',\n",
       " 'that',\n",
       " 'output',\n",
       " 'is',\n",
       " 'lion',\n",
       " 'common',\n",
       " 'using',\n",
       " 'upgrade',\n",
       " 'process',\n",
       " 'piped',\n",
       " 'vermin',\n",
       " 'second',\n",
       " 'editions',\n",
       " 'error',\n",
       " 'delete',\n",
       " 'if',\n",
       " 'osx',\n",
       " 'three',\n",
       " 'cat',\n",
       " 'on',\n",
       " 'which',\n",
       " 'sequence',\n",
       " 'allows',\n",
       " 'time',\n",
       " 'place',\n",
       " 'terms',\n",
       " 'small',\n",
       " 'deliberately',\n",
       " 'used',\n",
       " 'mice',\n",
       " 'files',\n",
       " 'released',\n",
       " 'of',\n",
       " 'not',\n",
       " 'people',\n",
       " 'needing',\n",
       " 'incremental',\n",
       " 'according',\n",
       " 'were',\n",
       " 'predators',\n",
       " 'will',\n",
       " 'leopard',\n",
       " 'right',\n",
       " 'over',\n",
       " 'more',\n",
       " 'other',\n",
       " 'started',\n",
       " 'installs',\n",
       " 'artificial',\n",
       " 'basic',\n",
       " 'kg',\n",
       " 'or',\n",
       " 'won',\n",
       " 'lb',\n",
       " 'successor',\n",
       " 'any',\n",
       " 'however',\n",
       " 'version',\n",
       " 'type',\n",
       " 'ears',\n",
       " 'those',\n",
       " 'catenates',\n",
       " 'concern',\n",
       " 'such',\n",
       " 'lines',\n",
       " 'symbol',\n",
       " 'undergone']"
      ]
     },
     "execution_count": 38,
     "metadata": {},
     "output_type": "execute_result"
    }
   ],
   "source": [
    "list_words = [word for line in words for word in line]\n",
    "list_words = list(set(list_words))\n",
    "list_words"
   ]
  },
  {
   "cell_type": "code",
   "execution_count": 37,
   "metadata": {},
   "outputs": [
    {
     "data": {
      "text/plain": [
       "array([[0., 0., 0., ..., 0., 0., 1.],\n",
       "       [0., 0., 0., ..., 0., 0., 0.],\n",
       "       [0., 0., 0., ..., 0., 0., 0.],\n",
       "       ...,\n",
       "       [0., 0., 0., ..., 0., 0., 0.],\n",
       "       [0., 1., 1., ..., 0., 0., 0.],\n",
       "       [0., 1., 0., ..., 0., 0., 0.]])"
      ]
     },
     "execution_count": 37,
     "metadata": {},
     "output_type": "execute_result"
    }
   ],
   "source": [
    "matrix = np.zeros((len(text), len(list_words)))\n",
    "for i in range(len(text)):\n",
    "    for j in range(len(list_words)):\n",
    "        matrix[i,j] = words[i].count(list_words[j])\n",
    "matrix"
   ]
  },
  {
   "cell_type": "code",
   "execution_count": 96,
   "metadata": {},
   "outputs": [
    {
     "name": "stdout",
     "output_type": "stream",
     "text": [
      "[0.9527544408738466, 0.8644738145642124, 0.8951715163278082, 0.7770887149698589, 0.9402385695332803, 0.7327387580875756, 0.9258750683338899, 0.8842724875284311, 0.9055088817476932, 0.8328165362273942, 0.8804771390665607, 0.8396432548525454, 0.8703592552895671, 0.8740118423302576, 0.9442721787424647, 0.8406361854220809, 0.956644501523794, 0.9442721787424647, 0.8885443574849294, 0.8427572744917122, 0.8250364469440588]\n"
     ]
    }
   ],
   "source": [
    "answer = []\n",
    "for i in range(1, len(text)):\n",
    "    answer.append(distance.cosine(matrix[0,:], matrix[i,:]))\n",
    "print(answer)\n",
    "with open('week2_first_task.txt', 'w') as file:\n",
    "    sort_answer = list(answer)\n",
    "    sort_answer.sort()\n",
    "    file.write(str(answer.index(sort_answer[0])+1) + ' ' + str(answer.index(sort_answer[1])+1))"
   ]
  },
  {
   "cell_type": "code",
   "execution_count": 64,
   "metadata": {},
   "outputs": [
    {
     "data": {
      "text/plain": [
       "[<matplotlib.lines.Line2D at 0x10ec5e10>]"
      ]
     },
     "execution_count": 64,
     "metadata": {},
     "output_type": "execute_result"
    },
    {
     "data": {
      "image/png": "[encoded data removed]",
      "text/plain": [
       "<Figure size 432x288 with 1 Axes>"
      ]
     },
     "metadata": {
      "needs_background": "light"
     },
     "output_type": "display_data"
    }
   ],
   "source": [
    "from math import sin, exp\n",
    "import scipy\n",
    "import matplotlib.pyplot as plt\n",
    "%matplotlib inline\n",
    "\n",
    "\n",
    "def fun(x):\n",
    "    return sin(x / 5) * exp(x / 10) + 5 * exp(-x / 2)\n",
    "\n",
    "plt.plot(np.arange(0,16,0.1), [fun(i) for i in np.arange(0,16,0.1)])"
   ]
  },
  {
   "cell_type": "code",
   "execution_count": 68,
   "metadata": {},
   "outputs": [],
   "source": [
    "a = np.array([[1,1],[1,15]])\n",
    "b = np.array([[fun(1)],[fun(15)]])\n",
    "arr = scipy.linalg.solve(a,b)\n",
    "def fun1(x):\n",
    "    return arr[0,0]+arr[1,0]*x"
   ]
  },
  {
   "cell_type": "code",
   "execution_count": 65,
   "metadata": {},
   "outputs": [
    {
     "data": {
      "text/plain": [
       "[<matplotlib.lines.Line2D at 0x10f37390>]"
      ]
     },
     "execution_count": 65,
     "metadata": {},
     "output_type": "execute_result"
    },
    {
     "data": {
      "image/png": "[encoded data removed]",
      "text/plain": [
       "<Figure size 432x288 with 1 Axes>"
      ]
     },
     "metadata": {
      "needs_background": "light"
     },
     "output_type": "display_data"
    }
   ],
   "source": [
    "plt.plot(np.arange(0,16,0.1), [fun1(i) for i in np.arange(0,16,0.1)])"
   ]
  },
  {
   "cell_type": "code",
   "execution_count": 70,
   "metadata": {},
   "outputs": [],
   "source": [
    "a = np.array([[1,1,1],[1,8,8**2],[1,15,15**2]])\n",
    "b = np.array([[fun(1)],[fun(8)],[fun(15)]])\n",
    "arr = scipy.linalg.solve(a,b)\n",
    "def fun2(x):\n",
    "    return arr[0,0]+arr[1,0]*x + arr[2,0]*x**2"
   ]
  },
  {
   "cell_type": "code",
   "execution_count": 71,
   "metadata": {},
   "outputs": [
    {
     "data": {
      "text/plain": [
       "[<matplotlib.lines.Line2D at 0x10fc5bf0>]"
      ]
     },
     "execution_count": 71,
     "metadata": {},
     "output_type": "execute_result"
    },
    {
     "data": {
      "image/png": "[encoded data removed]",
      "text/plain": [
       "<Figure size 432x288 with 1 Axes>"
      ]
     },
     "metadata": {
      "needs_background": "light"
     },
     "output_type": "display_data"
    }
   ],
   "source": [
    "plt.plot(np.arange(0,16,0.1), [fun2(i) for i in np.arange(0,16,0.1)])"
   ]
  },
  {
   "cell_type": "code",
   "execution_count": 80,
   "metadata": {},
   "outputs": [
    {
     "data": {
      "text/plain": [
       "array([ 4.36264154, -1.29552587,  0.19333685, -0.00823565])"
      ]
     },
     "execution_count": 80,
     "metadata": {},
     "output_type": "execute_result"
    }
   ],
   "source": [
    "a = np.array([[1,1,1,1],[1,4,4**2,4**3],[1,10,10**2,10**3],[1,15,15**2,15**3]])\n",
    "b = np.array([[fun(1)],[fun(4)],[fun(10)],[fun(15)]])\n",
    "arr = scipy.linalg.solve(a,b)\n",
    "\n",
    "def fun3(x):\n",
    "    return arr[0,0]+arr[1,0]*x + arr[2,0]*x**2 + arr[3,0]*x**3\n",
    "arr = arr.reshape(4,)\n",
    "with open('week2_second_task.txt', 'w') as file:\n",
    "    for l in arr:\n",
    "        file.write(str(l) + ' ')\n",
    "arr"
   ]
  },
  {
   "cell_type": "code",
   "execution_count": 78,
   "metadata": {},
   "outputs": [
    {
     "data": {
      "text/plain": [
       "[<matplotlib.lines.Line2D at 0x1202f810>]"
      ]
     },
     "execution_count": 78,
     "metadata": {},
     "output_type": "execute_result"
    },
    {
     "data": {
      "image/png": "[encoded data removed]",
      "text/plain": [
       "<Figure size 432x288 with 1 Axes>"
      ]
     },
     "metadata": {
      "needs_background": "light"
     },
     "output_type": "display_data"
    }
   ],
   "source": [
    "plt.plot(np.arange(0,16,0.1), [fun3(i) for i in np.arange(0,16,0.1)])"
   ]
  },
  {
   "cell_type": "code",
   "execution_count": 90,
   "metadata": {},
   "outputs": [
    {
     "data": {
      "text/plain": [
       "[2, 3, 1, 4]"
      ]
     },
     "execution_count": 90,
     "metadata": {},
     "output_type": "execute_result"
    }
   ],
   "source": [
    "k=[2,3,1,4]\n",
    "f = k.copy()\n",
    "f.sort()\n",
    "k"
   ]
  },
  {
   "cell_type": "code",
   "execution_count": 98,
   "metadata": {},
   "outputs": [
    {
     "name": "stdout",
     "output_type": "stream",
     "text": [
      "12 14 19 65\n",
      "12 14 19 65\n",
      "1\n"
     ]
    }
   ],
   "source": [
    "import itertools\n",
    "input()\n",
    "\n",
    "temp = [int(i) for i in input().split(' ')]\n",
    "comb = list(itertools.combinations(temp, 2))\n",
    "l, answer = [], []\n",
    "for i in range(len(comb)):\n",
    "    if abs(comb[i][0]-comb[i][1])<=5:\n",
    "        l.append(i)\n",
    "if l:\n",
    "    for i in range(len(l)):\n",
    "        answer.append(abs(temp.index(comb[l[i]][0]) - temp.index(comb[l[i]][1])))\n",
    "    print(min(answer))\n",
    "else:\n",
    "    print(-1)"
   ]
  },
  {
   "cell_type": "markdown",
   "metadata": {},
   "source": [
    "1 2 2 3 4 2 1 4 5 2 1 4 6 7 5 6 \n",
    "3 1 1 2 1 2 1 2 1 2 1 2 1 2 1 2 "
   ]
  },
  {
   "cell_type": "code",
   "execution_count": 106,
   "metadata": {},
   "outputs": [
    {
     "name": "stdout",
     "output_type": "stream",
     "text": [
      "1 2 2 3 4 2 1 4 5 2 1 4 6 7 5 2 2\n",
      "2 1 1 2 1 2 1 2 1 2 1 2 1 2 1 2 1\n"
     ]
    }
   ],
   "source": [
    "comp = input().split()\n",
    "micro = [1]*len(comp)\n",
    "for i in range(2,len(comp)):\n",
    "    if comp[i-1] != comp[i]:\n",
    "        if micro[i-1] == 1:\n",
    "            micro[i]+=1\n",
    "if comp[0] != comp[1]:\n",
    "    micro[0]+=1\n",
    "if comp[0] != comp[-1] and micro[0] == micro[-1]:\n",
    "    micro[0]+=1\n",
    "print(*micro)"
   ]
  },
  {
   "cell_type": "code",
   "execution_count": 26,
   "metadata": {},
   "outputs": [
    {
     "data": {
      "text/plain": [
       "0.4"
      ]
     },
     "execution_count": 26,
     "metadata": {},
     "output_type": "execute_result"
    }
   ],
   "source": [
    "0.2/0.5\n"
   ]
  },
  {
   "cell_type": "code",
   "execution_count": 30,
   "metadata": {},
   "outputs": [
    {
     "data": {
      "text/plain": [
       "7.763975155279504"
      ]
     },
     "execution_count": 30,
     "metadata": {},
     "output_type": "execute_result"
    }
   ],
   "source": [
    "0.01*0.8/(0.01*0.8+0.096*0.99)*100"
   ]
  },
  {
   "cell_type": "code",
   "execution_count": null,
   "metadata": {},
   "outputs": [],
   "source": []
  }
 ],
 "metadata": {
  "kernelspec": {
   "display_name": "Python 3",
   "language": "python",
   "name": "python3"
  },
  "language_info": {
   "codemirror_mode": {
    "name": "ipython",
    "version": 3
   },
   "file_extension": ".py",
   "mimetype": "text/x-python",
   "name": "python",
   "nbconvert_exporter": "python",
   "pygments_lexer": "ipython3",
   "version": "3.7.2"
  }
 },
 "nbformat": 4,
 "nbformat_minor": 2
}

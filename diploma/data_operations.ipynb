{
 "cells": [
  {
   "cell_type": "markdown",
   "metadata": {},
   "source": [
    "# Начало работы с \"Меланома родинки\""
   ]
  },
  {
   "cell_type": "code",
   "execution_count": 2,
   "metadata": {},
   "outputs": [],
   "source": [
    "import csv\n",
    "from isic_api import ISICApi\n",
    "#Insert Username and Password Below\n",
    "with open('data_login.txt') as f:\n",
    "    name, password = f.readline().split(',')\n",
    "api = ISICApi(username=name, password=password)"
   ]
  },
  {
   "cell_type": "markdown",
   "metadata": {},
   "source": [
    "### image metadata"
   ]
  },
  {
   "cell_type": "markdown",
   "metadata": {},
   "source": [
    "get image short data"
   ]
  },
  {
   "cell_type": "code",
   "execution_count": 7,
   "metadata": {},
   "outputs": [
    {
     "name": "stdout",
     "output_type": "stream",
     "text": [
      "count of all data:  23906\n"
     ]
    }
   ],
   "source": [
    "print('count of all data: ', len(api.getJson('image?limit=0&offset=0&sort=name')))"
   ]
  },
  {
   "cell_type": "code",
   "execution_count": 9,
   "metadata": {},
   "outputs": [
    {
     "data": {
      "text/plain": [
       "[{'_id': '5436e3abbae478396759f0cf',\n",
       "  'name': 'ISIC_0000000',\n",
       "  'updated': '2015-02-23T02:48:17.495000+00:00'},\n",
       " {'_id': '5436e3acbae478396759f0d1',\n",
       "  'name': 'ISIC_0000001',\n",
       "  'updated': '2015-02-23T02:48:27.455000+00:00'},\n",
       " {'_id': '5436e3acbae478396759f0d3',\n",
       "  'name': 'ISIC_0000002',\n",
       "  'updated': '2015-02-23T02:48:37.249000+00:00'},\n",
       " {'_id': '5436e3acbae478396759f0d5',\n",
       "  'name': 'ISIC_0000003',\n",
       "  'updated': '2015-02-23T02:48:46.021000+00:00'}]"
      ]
     },
     "execution_count": 9,
     "metadata": {},
     "output_type": "execute_result"
    }
   ],
   "source": [
    "imageList = api.getJson('image?limit=100&offset=0&sort=name')\n",
    "imageList[0:4]"
   ]
  },
  {
   "cell_type": "markdown",
   "metadata": {},
   "source": [
    "get metadata from image"
   ]
  },
  {
   "cell_type": "code",
   "execution_count": 10,
   "metadata": {},
   "outputs": [
    {
     "name": "stdout",
     "output_type": "stream",
     "text": [
      "Fetching metadata for 100 images\n",
      "  ISIC_0000000,   ISIC_0000001,   ISIC_0000002,   ISIC_0000003,   ISIC_0000004,   ISIC_0000005,   ISIC_0000006,   ISIC_0000007,   ISIC_0000008,   ISIC_0000009,   ISIC_0000010,   ISIC_0000011,   ISIC_0000012,   ISIC_0000013,   ISIC_0000014,   ISIC_0000015,   ISIC_0000016,   ISIC_0000017,   ISIC_0000018,   ISIC_0000019,   ISIC_0000020,   ISIC_0000021,   ISIC_0000022,   ISIC_0000023,   ISIC_0000024,   ISIC_0000025,   ISIC_0000026,   ISIC_0000027,   ISIC_0000028,   ISIC_0000029,   ISIC_0000030,   ISIC_0000031,   ISIC_0000032,   ISIC_0000033,   ISIC_0000034,   ISIC_0000035,   ISIC_0000036,   ISIC_0000037,   ISIC_0000038,   ISIC_0000039,   ISIC_0000040,   ISIC_0000041,   ISIC_0000042,   ISIC_0000043,   ISIC_0000044,   ISIC_0000045,   ISIC_0000046,   ISIC_0000047,   ISIC_0000048,   ISIC_0000049,   ISIC_0000050,   ISIC_0000051,   ISIC_0000052,   ISIC_0000053,   ISIC_0000054,   ISIC_0000055,   ISIC_0000056,   ISIC_0000057,   ISIC_0000058,   ISIC_0000059,   ISIC_0000060,   ISIC_0000061,   ISIC_0000062,   ISIC_0000063,   ISIC_0000064,   ISIC_0000065,   ISIC_0000066,   ISIC_0000067,   ISIC_0000068,   ISIC_0000069,   ISIC_0000070,   ISIC_0000071,   ISIC_0000072,   ISIC_0000073,   ISIC_0000074,   ISIC_0000075,   ISIC_0000076,   ISIC_0000077,   ISIC_0000078,   ISIC_0000079,   ISIC_0000080,   ISIC_0000081,   ISIC_0000082,   ISIC_0000083,   ISIC_0000084,   ISIC_0000085,   ISIC_0000086,   ISIC_0000087,   ISIC_0000088,   ISIC_0000089,   ISIC_0000090,   ISIC_0000091,   ISIC_0000092,   ISIC_0000093,   ISIC_0000094,   ISIC_0000095,   ISIC_0000096,   ISIC_0000097,   ISIC_0000098,   ISIC_0000099, "
     ]
    }
   ],
   "source": [
    "print('Fetching metadata for %s images' % len(imageList))\n",
    "imageDetails = []\n",
    "for image in imageList:\n",
    "    print(' ', image['name'], end=', ')\n",
    "    # Fetch the full image details\n",
    "    imageDetail = api.getJson('image/%s' % image['_id'])\n",
    "    imageDetails.append(imageDetail)\n"
   ]
  },
  {
   "cell_type": "markdown",
   "metadata": {},
   "source": [
    "get ['meta']['clinical'] fields name"
   ]
  },
  {
   "cell_type": "code",
   "execution_count": 11,
   "metadata": {},
   "outputs": [],
   "source": [
    "\n",
    "# Determine the union of all image metadata fields\n",
    "metadataFields = set(\n",
    "    field\n",
    "    for imageDetail in imageDetails\n",
    "    for field in imageDetail['meta']['clinical'].keys()\n",
    ")\n",
    "metadataFields = ['isic_id'] + sorted(metadataFields)"
   ]
  },
  {
   "cell_type": "markdown",
   "metadata": {},
   "source": [
    "all metadata "
   ]
  },
  {
   "cell_type": "code",
   "execution_count": 17,
   "metadata": {},
   "outputs": [
    {
     "data": {
      "text/plain": [
       "{'_id': '5436e3b8bae478396759f197',\n",
       " '_modelType': 'image',\n",
       " 'created': '2014-10-09T19:36:24.982000+00:00',\n",
       " 'creator': {'_id': '5450e996bae47865794e4d0d', 'name': 'User 6VSN'},\n",
       " 'dataset': {'_accessLevel': -1,\n",
       "  '_id': '5a2ecc5e1165975c945942a2',\n",
       "  'description': 'Moles and melanomas.\\nBiopsy-confirmed melanocytic lesions. Both malignant and benign lesions are included.',\n",
       "  'license': 'CC-0',\n",
       "  'name': 'UDA-1',\n",
       "  'updated': '2014-11-10T02:39:56.492000+00:00'},\n",
       " 'meta': {'acquisition': {'image_type': 'dermoscopic',\n",
       "   'pixelsX': 2048,\n",
       "   'pixelsY': 1536},\n",
       "  'clinical': {'age_approx': None,\n",
       "   'benign_malignant': 'benign',\n",
       "   'diagnosis': 'nevus',\n",
       "   'diagnosis_confirm_type': None,\n",
       "   'melanocytic': True,\n",
       "   'sex': None},\n",
       "  'unstructured': {'diagnosis': 'nevus nos', 'id1': '101', 'site': 'nap'},\n",
       "  'unstructuredExif': {}},\n",
       " 'name': 'ISIC_0000099',\n",
       " 'notes': {'reviewed': {'accepted': True,\n",
       "   'time': '2014-11-10T02:39:56.492000+00:00',\n",
       "   'userId': '5436c6e7bae4780a676c8f93'},\n",
       "  'tags': ['ISBI 2016: Test',\n",
       "   'ISBI 2017: Training',\n",
       "   'Challenge 2018: Task 1-2: Training',\n",
       "   'Challenge 2019: Training']},\n",
       " 'updated': '2015-02-23T13:12:18.818000+00:00'}"
      ]
     },
     "execution_count": 17,
     "metadata": {},
     "output_type": "execute_result"
    }
   ],
   "source": [
    "imageDetail"
   ]
  },
  {
   "cell_type": "markdown",
   "metadata": {},
   "source": [
    "save metadata"
   ]
  },
  {
   "cell_type": "code",
   "execution_count": 27,
   "metadata": {},
   "outputs": [
    {
     "name": "stdout",
     "output_type": "stream",
     "text": [
      "Writing metadata to CSV: imagedata.csv\n"
     ]
    }
   ],
   "source": [
    "outputFileName = 'imagedata'\n",
    "\n",
    "# Write the metadata to a CSV\n",
    "print('Writing metadata to CSV: %s' % outputFileName+'.csv')\n",
    "with open(outputFileName+'.csv', 'w') as outputStream:\n",
    "    csvWriter = csv.DictWriter(outputStream, metadataFields)\n",
    "    csvWriter.writeheader()\n",
    "    for imageDetail in imageDetails:\n",
    "        rowDict = imageDetail['meta']['clinical'].copy()\n",
    "        rowDict['isic_id'] = imageDetail['name']\n",
    "        csvWriter.writerow(rowDict)"
   ]
  },
  {
   "cell_type": "markdown",
   "metadata": {},
   "source": [
    "saved metafields"
   ]
  },
  {
   "cell_type": "code",
   "execution_count": 12,
   "metadata": {},
   "outputs": [
    {
     "data": {
      "text/plain": [
       "['isic_id',\n",
       " 'age_approx',\n",
       " 'anatom_site_general',\n",
       " 'benign_malignant',\n",
       " 'diagnosis',\n",
       " 'diagnosis_confirm_type',\n",
       " 'melanocytic',\n",
       " 'sex']"
      ]
     },
     "execution_count": 12,
     "metadata": {},
     "output_type": "execute_result"
    }
   ],
   "source": [
    "metadataFields"
   ]
  },
  {
   "cell_type": "markdown",
   "metadata": {},
   "source": [
    "### download image"
   ]
  },
  {
   "cell_type": "code",
   "execution_count": 15,
   "metadata": {},
   "outputs": [
    {
     "name": "stdout",
     "output_type": "stream",
     "text": [
      "Downloading 10 images\n",
      "5436e3abbae478396759f0cf, 5436e3acbae478396759f0d1, 5436e3acbae478396759f0d3, 5436e3acbae478396759f0d5, 5436e3acbae478396759f0d7, 5436e3acbae478396759f0d9, 5436e3acbae478396759f0db, 5436e3acbae478396759f0dd, 5436e3acbae478396759f0df, 5436e3acbae478396759f0e1, "
     ]
    }
   ],
   "source": [
    "import urllib\n",
    "import os\n",
    "\n",
    "# Initialize the API; no login is necessary for public data\n",
    "savePath = 'ISICArchive/'\n",
    "\n",
    "if not os.path.exists(savePath):\n",
    "    os.makedirs(savePath)\n",
    "\n",
    "imageList = api.getJson('image?limit=10&offset=0&sort=name')\n",
    "\n",
    "print('Downloading %s images' % len(imageList))\n",
    "imageDetails = []\n",
    "for image in imageList:\n",
    "    print(image['_id'], end=', ')\n",
    "    imageFileResp = api.get('image/%s/download' % image['_id'])\n",
    "    imageFileResp.raise_for_status()\n",
    "    imageFileOutputPath = os.path.join(savePath, '%s.jpg' % image['name'])\n",
    "    with open(imageFileOutputPath, 'wb') as imageFileOutputStream:\n",
    "        for chunk in imageFileResp:\n",
    "            imageFileOutputStream.write(chunk)\n"
   ]
  },
  {
   "cell_type": "code",
   "execution_count": 16,
   "metadata": {},
   "outputs": [
    {
     "data": {
      "image/jpeg": "[encoded data removed]",
      "text/plain": [
       "<IPython.core.display.Image object>"
      ]
     },
     "execution_count": 16,
     "metadata": {},
     "output_type": "execute_result"
    }
   ],
   "source": [
    "from IPython.display import Image\n",
    "Image(filename=imageFileOutputPath) "
   ]
  },
  {
   "cell_type": "markdown",
   "metadata": {},
   "source": [
    "### study"
   ]
  },
  {
   "cell_type": "code",
   "execution_count": 36,
   "metadata": {},
   "outputs": [
    {
     "data": {
      "text/plain": [
       "[{'_id': '573f11119fc3c132505c0ee7',\n",
       "  'description': '',\n",
       "  'name': 'ISBI 2016: 100 Lesion Classification',\n",
       "  'updated': '2016-11-08T10:25:45.485000+00:00'},\n",
       " {'_id': '5a32cde91165975cf58a469c',\n",
       "  'description': '',\n",
       "  'name': 'ISIC Annotation Study - All Features',\n",
       "  'updated': '2017-12-14T19:15:53.898000+00:00'}]"
      ]
     },
     "execution_count": 36,
     "metadata": {},
     "output_type": "execute_result"
    }
   ],
   "source": [
    "import pandas as pd\n",
    "\n",
    "# Initialize the API; no login is necessary for public data\n",
    "outputFileName = 'imagedata'\n",
    "studyData = api.getJson('study/573f11119fc3c132505c0ee7')\n",
    "studyData_images = pd.DataFrame(studyData['images'])\n",
    "studyData_images.to_csv('studyDataImages.csv')\n",
    "\n",
    "studyList = api.getJson('study?limit=50&state=complete')\n",
    "studyList"
   ]
  },
  {
   "cell_type": "markdown",
   "metadata": {},
   "source": [
    "### Segmentations \n",
    "lining of black/white img"
   ]
  },
  {
   "cell_type": "code",
   "execution_count": 37,
   "metadata": {},
   "outputs": [
    {
     "name": "stdout",
     "output_type": "stream",
     "text": [
      "[{'_id': '5463934bbae47821f88025ad', 'created': '2014-11-12T17:05:15.624000+00:00', 'failed': False, 'skill': 'expert'}]\n",
      "{'_id': '5463934bbae47821f88025ad', 'created': '2014-11-12T17:05:15.624000+00:00', 'creator': {'_id': '5450e996bae47865794e4d0d', 'name': 'User 6VSN'}, 'failed': False, 'imageId': '5436e3abbae478396759f0cf', 'meta': {'source': 'autofill', 'startTime': '2014-11-12T17:02:19.605000+00:00', 'stopTime': '2014-11-12T17:03:12.156000+00:00'}, 'reviews': [{'approved': True, 'skill': 'novice', 'time': '2014-11-12T17:05:15.624000+00:00', 'userId': '5450e996bae47865794e4d0d'}, {'approved': True, 'skill': 'expert', 'time': '2015-02-23T02:02:08.162000+00:00', 'userId': '54cb967ebae47819d8e4c724'}]}\n"
     ]
    }
   ],
   "source": [
    "# Get List of Image Segmentations\n",
    "imageId = '5436e3abbae478396759f0cf' #Using image ISIC_0000000 as example\n",
    "imageSegmentationData = api.getJson('segmentation?imageId='+imageId)\n",
    "print(imageSegmentationData)\n",
    "# Get Details for a Segmentation\n",
    "segmentationId = '5463934bbae47821f88025ad' #Using image ISIC_0000000 as example\n",
    "segmentationData = api.getJson('segmentation/'+segmentationId)\n",
    "print(segmentationData)"
   ]
  },
  {
   "cell_type": "code",
   "execution_count": 40,
   "metadata": {},
   "outputs": [
    {
     "name": "stdout",
     "output_type": "stream",
     "text": [
      "Downloading 1 images\n",
      "5463934bbae47821f88025ad\n"
     ]
    }
   ],
   "source": [
    "# Download Segmentation Mask\n",
    "savePath = 'ISICArchive/segmentation/'\n",
    "\n",
    "if not os.path.exists(savePath):\n",
    "    os.makedirs(savePath)\n",
    "\n",
    "imageId = '5436e3abbae478396759f0cf'\n",
    "segmentationList = api.getJson('segmentation?imageId='+imageId)\n",
    "\n",
    "print('Downloading %s images' % len(segmentationList))\n",
    "\n",
    "for segmentation in segmentationList:\n",
    "    print(segmentation['_id'])\n",
    "    imageFileResp = api.get('segmentation/%s/mask' % segmentation['_id'])\n",
    "    imageFileResp.raise_for_status()\n",
    "    imageFileOutputPath = os.path.join(savePath, '%s_segmentationMask.jpg' % segmentation['_id'])\n",
    "    with open(imageFileOutputPath, 'wb') as imageFileOutputStream:\n",
    "        for chunk in imageFileResp:\n",
    "            imageFileOutputStream.write(chunk)"
   ]
  },
  {
   "cell_type": "markdown",
   "metadata": {},
   "source": [
    "### Annotations\n"
   ]
  },
  {
   "cell_type": "code",
   "execution_count": 45,
   "metadata": {},
   "outputs": [
    {
     "data": {
      "text/plain": [
       "('5a32cde91165975cf58a469c',\n",
       " [{'_id': '5a32cde91165975cf58a469e',\n",
       "   'imageId': '54e755f8bae47850e86ce012',\n",
       "   'state': 'complete',\n",
       "   'studyId': '5a32cde91165975cf58a469c',\n",
       "   'userId': '578e64b09fc3c10d6fd12e4f'},\n",
       "  {'_id': '5a32cde91165975cf58a469f',\n",
       "   'imageId': '54e755fdbae47850e86ce058',\n",
       "   'state': 'complete',\n",
       "   'studyId': '5a32cde91165975cf58a469c',\n",
       "   'userId': '578e64b09fc3c10d6fd12e4f'},\n",
       "  {'_id': '5a32cde91165975cf58a46a0',\n",
       "   'imageId': '54e755febae47850e86ce05d',\n",
       "   'state': 'complete',\n",
       "   'studyId': '5a32cde91165975cf58a469c',\n",
       "   'userId': '578e64b09fc3c10d6fd12e4f'},\n",
       "  {'_id': '5a32cde91165975cf58a46a1',\n",
       "   'imageId': '54e75604bae47850e86ce0bc',\n",
       "   'state': 'complete',\n",
       "   'studyId': '5a32cde91165975cf58a469c',\n",
       "   'userId': '578e64b09fc3c10d6fd12e4f'},\n",
       "  {'_id': '5a32cde91165975cf58a46a2',\n",
       "   'imageId': '54e75608bae47850e86ce0ee',\n",
       "   'state': 'complete',\n",
       "   'studyId': '5a32cde91165975cf58a469c',\n",
       "   'userId': '578e64b09fc3c10d6fd12e4f'}])"
      ]
     },
     "execution_count": 45,
     "metadata": {},
     "output_type": "execute_result"
    }
   ],
   "source": [
    "# Get List of Annotations\n",
    "\n",
    "studyList = api.getJson('study?limit=50&state=complete')\n",
    "selectedStudy = studyList[1]['_id'] #Just an example. Can also use selectedStudy = 'INSERT STUDY ID'\n",
    "listOfStudyAnnotations = api.getJson('annotation?studyId='+selectedStudy)\n",
    "selectedStudy, listOfStudyAnnotations[:5]"
   ]
  },
  {
   "cell_type": "code",
   "execution_count": 46,
   "metadata": {},
   "outputs": [
    {
     "data": {
      "text/plain": [
       "{'_id': '5a32cde91165975cf58a469e',\n",
       " '_modelType': 'annotation',\n",
       " 'image': {'_id': '54e755f8bae47850e86ce012',\n",
       "  'name': 'ISIC_0001115',\n",
       "  'updated': '2015-12-03T18:05:41.574000+00:00'},\n",
       " 'log': [],\n",
       " 'markups': {'Globules / Clods : Lacunae : Red': True,\n",
       "  'Shiny white structures : Shiny white blotches and strands': True},\n",
       " 'responses': {'Benign or Malignant': 'Benign',\n",
       "  'Confidence Level': 'Somewhat Confident'},\n",
       " 'startTime': '2018-01-04T19:41:10.193000+00:00',\n",
       " 'state': 'complete',\n",
       " 'status': 'ok',\n",
       " 'stopTime': '2018-01-04T19:43:41.448000+00:00',\n",
       " 'studyId': '5a32cde91165975cf58a469c',\n",
       " 'user': {'_id': '578e64b09fc3c10d6fd12e4f', 'name': 'User 6YB2'}}"
      ]
     },
     "execution_count": 46,
     "metadata": {},
     "output_type": "execute_result"
    }
   ],
   "source": [
    "# Get Details of Annotations\n",
    "\n",
    "annotationId = listOfStudyAnnotations[0]['_id']\n",
    "annotationDetails = api.getJson('annotation/'+annotationId)\n",
    "annotationDetails"
   ]
  }
 ],
 "metadata": {
  "kernelspec": {
   "display_name": "Python 3",
   "language": "python",
   "name": "python3"
  },
  "language_info": {
   "codemirror_mode": {
    "name": "ipython",
    "version": 3
   },
   "file_extension": ".py",
   "mimetype": "text/x-python",
   "name": "python",
   "nbconvert_exporter": "python",
   "pygments_lexer": "ipython3",
   "version": "3.7.2"
  }
 },
 "nbformat": 4,
 "nbformat_minor": 2
}

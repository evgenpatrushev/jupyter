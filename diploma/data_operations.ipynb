{
 "cells": [
  {
   "cell_type": "markdown",
   "metadata": {},
   "source": [
    "# Начало работы с \"Меланома родинки\""
   ]
  },
  {
   "cell_type": "code",
   "execution_count": 25,
   "metadata": {},
   "outputs": [],
   "source": [
    "import csv\n",
    "from isic_api import ISICApi\n",
    "#Insert Username and Password Below\n",
    "with open('data_login.txt') as f:\n",
    "    name, password = f.readline().split(',')\n",
    "api = ISICApi(username=name, password=password)"
   ]
  },
  {
   "cell_type": "markdown",
   "metadata": {},
   "source": [
    "### image"
   ]
  },
  {
   "cell_type": "code",
   "execution_count": 6,
   "metadata": {},
   "outputs": [
    {
     "data": {
      "text/plain": [
       "[{'_id': '5436e3abbae478396759f0cf',\n",
       "  'name': 'ISIC_0000000',\n",
       "  'updated': '2015-02-23T02:48:17.495000+00:00'},\n",
       " {'_id': '5436e3acbae478396759f0d1',\n",
       "  'name': 'ISIC_0000001',\n",
       "  'updated': '2015-02-23T02:48:27.455000+00:00'},\n",
       " {'_id': '5436e3acbae478396759f0d3',\n",
       "  'name': 'ISIC_0000002',\n",
       "  'updated': '2015-02-23T02:48:37.249000+00:00'},\n",
       " {'_id': '5436e3acbae478396759f0d5',\n",
       "  'name': 'ISIC_0000003',\n",
       "  'updated': '2015-02-23T02:48:46.021000+00:00'}]"
      ]
     },
     "execution_count": 6,
     "metadata": {},
     "output_type": "execute_result"
    }
   ],
   "source": [
    "imageList = api.getJson('image?limit=100&offset=0&sort=name')\n",
    "imageList[0:4]"
   ]
  },
  {
   "cell_type": "code",
   "execution_count": 8,
   "metadata": {},
   "outputs": [
    {
     "name": "stdout",
     "output_type": "stream",
     "text": [
      "Fetching metadata for 100 images\n",
      "  ISIC_0000000,   ISIC_0000001,   ISIC_0000002,   ISIC_0000003,   ISIC_0000004,   ISIC_0000005,   ISIC_0000006,   ISIC_0000007,   ISIC_0000008,   ISIC_0000009,   ISIC_0000010,   ISIC_0000011,   ISIC_0000012,   ISIC_0000013,   ISIC_0000014,   ISIC_0000015,   ISIC_0000016,   ISIC_0000017,   ISIC_0000018,   ISIC_0000019,   ISIC_0000020,   ISIC_0000021,   ISIC_0000022,   ISIC_0000023,   ISIC_0000024,   ISIC_0000025,   ISIC_0000026,   ISIC_0000027,   ISIC_0000028,   ISIC_0000029,   ISIC_0000030,   ISIC_0000031,   ISIC_0000032,   ISIC_0000033,   ISIC_0000034,   ISIC_0000035,   ISIC_0000036,   ISIC_0000037,   ISIC_0000038,   ISIC_0000039,   ISIC_0000040,   ISIC_0000041,   ISIC_0000042,   ISIC_0000043,   ISIC_0000044,   ISIC_0000045,   ISIC_0000046,   ISIC_0000047,   ISIC_0000048,   ISIC_0000049,   ISIC_0000050,   ISIC_0000051,   ISIC_0000052,   ISIC_0000053,   ISIC_0000054,   ISIC_0000055,   ISIC_0000056,   ISIC_0000057,   ISIC_0000058,   ISIC_0000059,   ISIC_0000060,   ISIC_0000061,   ISIC_0000062,   ISIC_0000063,   ISIC_0000064,   ISIC_0000065,   ISIC_0000066,   ISIC_0000067,   ISIC_0000068,   ISIC_0000069,   ISIC_0000070,   ISIC_0000071,   ISIC_0000072,   ISIC_0000073,   ISIC_0000074,   ISIC_0000075,   ISIC_0000076,   ISIC_0000077,   ISIC_0000078,   ISIC_0000079,   ISIC_0000080,   ISIC_0000081,   ISIC_0000082,   ISIC_0000083,   ISIC_0000084,   ISIC_0000085,   ISIC_0000086,   ISIC_0000087,   ISIC_0000088,   ISIC_0000089,   ISIC_0000090,   ISIC_0000091,   ISIC_0000092,   ISIC_0000093,   ISIC_0000094,   ISIC_0000095,   ISIC_0000096,   ISIC_0000097,   ISIC_0000098,   ISIC_0000099, \n"
     ]
    }
   ],
   "source": [
    "print('Fetching metadata for %s images' % len(imageList))\n",
    "imageDetails = []\n",
    "for image in imageList:\n",
    "    print(' ', image['name'], end=', ')\n",
    "    # Fetch the full image details\n",
    "    imageDetail = api.getJson('image/%s' % image['_id'])\n",
    "    imageDetails.append(imageDetail)"
   ]
  },
  {
   "cell_type": "code",
   "execution_count": 20,
   "metadata": {},
   "outputs": [],
   "source": [
    "\n",
    "# Determine the union of all image metadata fields\n",
    "metadataFields = set(\n",
    "    field\n",
    "    for imageDetail in imageDetails\n",
    "    for field in imageDetail['meta']['clinical'].keys()\n",
    ")\n",
    "metadataFields = ['isic_id'] + sorted(metadataFields)\n"
   ]
  },
  {
   "cell_type": "code",
   "execution_count": 27,
   "metadata": {},
   "outputs": [
    {
     "name": "stdout",
     "output_type": "stream",
     "text": [
      "Writing metadata to CSV: imagedata.csv\n"
     ]
    }
   ],
   "source": [
    "outputFileName = 'imagedata'\n",
    "\n",
    "# Write the metadata to a CSV\n",
    "print('Writing metadata to CSV: %s' % outputFileName+'.csv')\n",
    "with open(outputFileName+'.csv', 'w') as outputStream:\n",
    "    csvWriter = csv.DictWriter(outputStream, metadataFields)\n",
    "    csvWriter.writeheader()\n",
    "    for imageDetail in imageDetails:\n",
    "        rowDict = imageDetail['meta']['clinical'].copy()\n",
    "        rowDict['isic_id'] = imageDetail['name']\n",
    "        csvWriter.writerow(rowDict)"
   ]
  },
  {
   "cell_type": "code",
   "execution_count": null,
   "metadata": {},
   "outputs": [],
   "source": []
  }
 ],
 "metadata": {
  "kernelspec": {
   "display_name": "Python 3",
   "language": "python",
   "name": "python3"
  },
  "language_info": {
   "codemirror_mode": {
    "name": "ipython",
    "version": 3
   },
   "file_extension": ".py",
   "mimetype": "text/x-python",
   "name": "python",
   "nbconvert_exporter": "python",
   "pygments_lexer": "ipython3",
   "version": "3.7.2"
  }
 },
 "nbformat": 4,
 "nbformat_minor": 2
}

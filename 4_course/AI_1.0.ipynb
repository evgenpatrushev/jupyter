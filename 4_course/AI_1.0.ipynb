{
 "cells": [
  {
   "cell_type": "markdown",
   "metadata": {},
   "source": [
    "# лабораторна робота по ИИ\n",
    "\n",
    "## 1) один нейрон"
   ]
  },
  {
   "cell_type": "code",
   "execution_count": 2,
   "metadata": {},
   "outputs": [],
   "source": [
    "import pandas as pd\n",
    "import numpy as np\n",
    "from itertools import product"
   ]
  },
  {
   "cell_type": "code",
   "execution_count": 2,
   "metadata": {},
   "outputs": [],
   "source": [
    "def neuron(x=[7,4,5], y=0.3, delta_error=0.1):     \n",
    "    \n",
    "    if len(x)!=3:\n",
    "        print('error len of x')\n",
    "        return \n",
    "    if type(y) is not float and type(y) is not int:\n",
    "        print('error y type is uncorrect')\n",
    "        return \n",
    "    if type(delta_error) is not float and type(delta_error) is not int:\n",
    "        print('error delta_error type is uncorrect')\n",
    "        return \n",
    "    \n",
    "    \n",
    "    # initialization var\n",
    "    x = np.array([1] + x)\n",
    "    w = np.random.normal(loc=0.1, scale=0.05, size=(len(x), 1))\n",
    "    df = pd.DataFrame(columns=['w0', 'w1', 'w2', 'w3', 'y_predict', 'delta'])\n",
    "    \n",
    "    def predict(x_list):\n",
    "        x_list = np.array([1] + x_list)\n",
    "        s = np.dot(x_list, w)[0]\n",
    "        y = activization_function(s)\n",
    "        return y\n",
    "    \n",
    "    while True:\n",
    "        \n",
    "        s_m = np.dot(x, w)[0]\n",
    "        y_m = activization_function(s_m)\n",
    "        \n",
    "        delta = abs((y_m - y) / y)\n",
    "        df = df.append({'w0':w[0][0], 'w1':w[1][0], 'w2':w[2][0], 'w3':w[3][0], 'y_predict':y_m, 'delta': delta}, \n",
    "                       ignore_index=True)\n",
    "        \n",
    "        if delta <= delta_error: \n",
    "            return df, predict\n",
    "        \n",
    "        eta = y_m*(1-y_m)\n",
    "        delta_w = eta * (y - y_m) * x\n",
    "        w = w + delta_w.reshape(len(x), 1)\n",
    "        "
   ]
  },
  {
   "cell_type": "code",
   "execution_count": 12,
   "metadata": {},
   "outputs": [],
   "source": [
    "def activization_function(sum_x):\n",
    "    return 1/(1 + np.exp(-sum_x))"
   ]
  },
  {
   "cell_type": "code",
   "execution_count": 4,
   "metadata": {},
   "outputs": [
    {
     "data": {
      "text/html": [
       "<div>\n",
       "<style scoped>\n",
       "    .dataframe tbody tr th:only-of-type {\n",
       "        vertical-align: middle;\n",
       "    }\n",
       "\n",
       "    .dataframe tbody tr th {\n",
       "        vertical-align: top;\n",
       "    }\n",
       "\n",
       "    .dataframe thead th {\n",
       "        text-align: right;\n",
       "    }\n",
       "</style>\n",
       "<table border=\"1\" class=\"dataframe\">\n",
       "  <thead>\n",
       "    <tr style=\"text-align: right;\">\n",
       "      <th></th>\n",
       "      <th>w0</th>\n",
       "      <th>w1</th>\n",
       "      <th>w2</th>\n",
       "      <th>w3</th>\n",
       "      <th>y_predict</th>\n",
       "      <th>delta</th>\n",
       "    </tr>\n",
       "  </thead>\n",
       "  <tbody>\n",
       "    <tr>\n",
       "      <th>0</th>\n",
       "      <td>0.090455</td>\n",
       "      <td>0.131097</td>\n",
       "      <td>0.124785</td>\n",
       "      <td>0.086221</td>\n",
       "      <td>0.874174</td>\n",
       "      <td>1.913915</td>\n",
       "    </tr>\n",
       "    <tr>\n",
       "      <th>1</th>\n",
       "      <td>0.027300</td>\n",
       "      <td>-0.310991</td>\n",
       "      <td>-0.127837</td>\n",
       "      <td>-0.229556</td>\n",
       "      <td>0.021694</td>\n",
       "      <td>0.927685</td>\n",
       "    </tr>\n",
       "    <tr>\n",
       "      <th>2</th>\n",
       "      <td>0.033207</td>\n",
       "      <td>-0.269644</td>\n",
       "      <td>-0.104210</td>\n",
       "      <td>-0.200023</td>\n",
       "      <td>0.036571</td>\n",
       "      <td>0.878098</td>\n",
       "    </tr>\n",
       "    <tr>\n",
       "      <th>3</th>\n",
       "      <td>0.042488</td>\n",
       "      <td>-0.204674</td>\n",
       "      <td>-0.067084</td>\n",
       "      <td>-0.153615</td>\n",
       "      <td>0.081164</td>\n",
       "      <td>0.729455</td>\n",
       "    </tr>\n",
       "    <tr>\n",
       "      <th>4</th>\n",
       "      <td>0.058808</td>\n",
       "      <td>-0.090434</td>\n",
       "      <td>-0.001805</td>\n",
       "      <td>-0.072016</td>\n",
       "      <td>0.280592</td>\n",
       "      <td>0.064693</td>\n",
       "    </tr>\n",
       "  </tbody>\n",
       "</table>\n",
       "</div>"
      ],
      "text/plain": [
       "         w0        w1        w2        w3  y_predict     delta\n",
       "0  0.090455  0.131097  0.124785  0.086221   0.874174  1.913915\n",
       "1  0.027300 -0.310991 -0.127837 -0.229556   0.021694  0.927685\n",
       "2  0.033207 -0.269644 -0.104210 -0.200023   0.036571  0.878098\n",
       "3  0.042488 -0.204674 -0.067084 -0.153615   0.081164  0.729455\n",
       "4  0.058808 -0.090434 -0.001805 -0.072016   0.280592  0.064693"
      ]
     },
     "execution_count": 4,
     "metadata": {},
     "output_type": "execute_result"
    }
   ],
   "source": [
    "df, prd = neuron()\n",
    "df[-10:]"
   ]
  },
  {
   "cell_type": "code",
   "execution_count": 5,
   "metadata": {},
   "outputs": [
    {
     "data": {
      "text/plain": [
       "0.2805921931772059"
      ]
     },
     "execution_count": 5,
     "metadata": {},
     "output_type": "execute_result"
    }
   ],
   "source": [
    "prd([7,4,5])"
   ]
  },
  {
   "cell_type": "markdown",
   "metadata": {},
   "source": [
    "## 2) Многослойный перцептрон, алгоритм обратного распространения ошибки 1\\*1\\*1"
   ]
  },
  {
   "cell_type": "code",
   "execution_count": 11,
   "metadata": {},
   "outputs": [],
   "source": [
    "def Multilayer_perceptron(x=7, y=0.3, delta_error=0.01):\n",
    "    if type(x) is not float and type(x) is not int:\n",
    "        print('error x type is uncorrect')\n",
    "        return \n",
    "    if type(y) is not float and type(y) is not int:\n",
    "        print('error y type is uncorrect')\n",
    "        return \n",
    "    if type(delta_error) is not float and type(delta_error) is not int:\n",
    "        print('error delta_error type is uncorrect')\n",
    "        return \n",
    "    \n",
    "    df = pd.DataFrame(columns=['delta', 'y_pr'])\n",
    "    w12, w23 = np.random.normal(loc=0.1, scale=0.05, size=2)\n",
    "    \n",
    "    def predict(x_pr):\n",
    "        x_s1 = x_pr * w12\n",
    "        y = activization_function(x_s1)\n",
    "        \n",
    "        x_s2 = y * w23\n",
    "        return activization_function(x_s2)\n",
    "    \n",
    "    while True:\n",
    "        x_sum1 = x * w12\n",
    "        y2 = activization_function(x_sum1)\n",
    "        \n",
    "        x_sum2 = y2 * w23\n",
    "        y3 = activization_function(x_sum2)\n",
    "        \n",
    "        delta = abs((y3 - y) / y)\n",
    "    \n",
    "        df = df.append({'delta':delta, 'y_pr':y3}, ignore_index=True)\n",
    "        \n",
    "        if delta <= delta_error:\n",
    "            return df, predict\n",
    "        \n",
    "        sigma_3 = y3 * (1-y3) * (y - y3)\n",
    "        delta_w23 = y2 * sigma_3\n",
    "        \n",
    "        sigma_2 = y2 * (1-y2) * (sigma_3 * w23)\n",
    "        delta_w12 = x * sigma_2\n",
    "        \n",
    "        w12 += delta_w12\n",
    "        w23 += delta_w23\n",
    "        "
   ]
  },
  {
   "cell_type": "code",
   "execution_count": 12,
   "metadata": {},
   "outputs": [
    {
     "data": {
      "text/html": [
       "<div>\n",
       "<style scoped>\n",
       "    .dataframe tbody tr th:only-of-type {\n",
       "        vertical-align: middle;\n",
       "    }\n",
       "\n",
       "    .dataframe tbody tr th {\n",
       "        vertical-align: top;\n",
       "    }\n",
       "\n",
       "    .dataframe thead th {\n",
       "        text-align: right;\n",
       "    }\n",
       "</style>\n",
       "<table border=\"1\" class=\"dataframe\">\n",
       "  <thead>\n",
       "    <tr style=\"text-align: right;\">\n",
       "      <th></th>\n",
       "      <th>delta</th>\n",
       "      <th>y_pr</th>\n",
       "    </tr>\n",
       "  </thead>\n",
       "  <tbody>\n",
       "    <tr>\n",
       "      <th>86</th>\n",
       "      <td>0.014571</td>\n",
       "      <td>0.304371</td>\n",
       "    </tr>\n",
       "    <tr>\n",
       "      <th>87</th>\n",
       "      <td>0.013924</td>\n",
       "      <td>0.304177</td>\n",
       "    </tr>\n",
       "    <tr>\n",
       "      <th>88</th>\n",
       "      <td>0.013306</td>\n",
       "      <td>0.303992</td>\n",
       "    </tr>\n",
       "    <tr>\n",
       "      <th>89</th>\n",
       "      <td>0.012716</td>\n",
       "      <td>0.303815</td>\n",
       "    </tr>\n",
       "    <tr>\n",
       "      <th>90</th>\n",
       "      <td>0.012152</td>\n",
       "      <td>0.303646</td>\n",
       "    </tr>\n",
       "    <tr>\n",
       "      <th>91</th>\n",
       "      <td>0.011614</td>\n",
       "      <td>0.303484</td>\n",
       "    </tr>\n",
       "    <tr>\n",
       "      <th>92</th>\n",
       "      <td>0.011099</td>\n",
       "      <td>0.303330</td>\n",
       "    </tr>\n",
       "    <tr>\n",
       "      <th>93</th>\n",
       "      <td>0.010608</td>\n",
       "      <td>0.303182</td>\n",
       "    </tr>\n",
       "    <tr>\n",
       "      <th>94</th>\n",
       "      <td>0.010139</td>\n",
       "      <td>0.303042</td>\n",
       "    </tr>\n",
       "    <tr>\n",
       "      <th>95</th>\n",
       "      <td>0.009691</td>\n",
       "      <td>0.302907</td>\n",
       "    </tr>\n",
       "  </tbody>\n",
       "</table>\n",
       "</div>"
      ],
      "text/plain": [
       "       delta      y_pr\n",
       "86  0.014571  0.304371\n",
       "87  0.013924  0.304177\n",
       "88  0.013306  0.303992\n",
       "89  0.012716  0.303815\n",
       "90  0.012152  0.303646\n",
       "91  0.011614  0.303484\n",
       "92  0.011099  0.303330\n",
       "93  0.010608  0.303182\n",
       "94  0.010139  0.303042\n",
       "95  0.009691  0.302907"
      ]
     },
     "execution_count": 12,
     "metadata": {},
     "output_type": "execute_result"
    }
   ],
   "source": [
    "df, prd = Multilayer_perceptron()\n",
    "df[-10:]"
   ]
  },
  {
   "cell_type": "code",
   "execution_count": 13,
   "metadata": {},
   "outputs": [
    {
     "data": {
      "text/plain": [
       "0.30428897196337795"
      ]
     },
     "execution_count": 13,
     "metadata": {},
     "output_type": "execute_result"
    }
   ],
   "source": [
    "prd(6.66)"
   ]
  },
  {
   "cell_type": "markdown",
   "metadata": {},
   "source": [
    "## 2) многослойный песептрон с одним скрытым слоем"
   ]
  },
  {
   "cell_type": "code",
   "execution_count": 31,
   "metadata": {},
   "outputs": [],
   "source": [
    "def Multilayer_perceptron_2(x=[2,4,7,3], y=0.3, hidden_layer=40, w1=[], w2=[]):\n",
    "#     print(pd.DataFrame(w1, columns=['neuron1', 'neuron2', 'neuron3'], index=['x0','x1','x2']))\n",
    "#     print(pd.DataFrame(w2, index=['y0','neuron1', 'neuron2', 'neuron3'], columns=['exit']))\n",
    "    x = [1] + list(x)\n",
    "    y_hidden = np.array([1] + list(activization_function(np.dot(x, w1))))\n",
    "    y_predict = activization_function(np.dot(y_hidden, w2))\n",
    "#     print('x\\n',x,'\\ny_hidden\\n',y_hidden, '\\ny_predict\\n', y_predict)\n",
    "\n",
    "    delta_exit = y_predict * (1 - y_predict) * (y - y_predict)\n",
    "    delta_hidden = y_hidden * (1 - y_hidden) * (delta_exit * w2.reshape(hidden_layer + 1))\n",
    "    \n",
    "#     print('delta_exit\\n',delta_exit,'\\delta_hidden\\n',delta_hidden)\n",
    "\n",
    "    \n",
    "    for i in range(len(x)):\n",
    "        w1[i,:] += x[i] * delta_hidden[1:]\n",
    "    \n",
    "    w2 += y_hidden.reshape(hidden_layer+1, 1) * delta_exit\n",
    "#     print(pd.DataFrame(w1, columns=['neuron1', 'neuron2', 'neuron3'], index=['x0','x1','x2']))\n",
    "#     print(pd.DataFrame(w2, index=['y0','neuron1', 'neuron2', 'neuron3'], columns=['exit']))\n",
    "    return w1, w2\n",
    "        \n",
    "        "
   ]
  },
  {
   "cell_type": "code",
   "execution_count": 36,
   "metadata": {},
   "outputs": [],
   "source": [
    "def online_perceptron(x_list=[[1,2],[2,1],[1,1]], y_list=[0.03, 0.03, 0.02], \n",
    "                     count_iter=1000):\n",
    "    \n",
    "    hidden_layer = 3\n",
    "    exit_layer = 1\n",
    "\n",
    "    w1 = np.random.normal(loc=0.1, scale=0.05, size=(len(x_list[0]) + 1, hidden_layer))\n",
    "    w2 = np.random.normal(loc=0.1, scale=0.05, size=(hidden_layer + 1, exit_layer))\n",
    "\n",
    "    def predict(x_pr):\n",
    "        y_h = np.array([1] + list(activization_function(np.dot([1] + x_pr, w1))))\n",
    "        return activization_function(np.dot(y_h, w2))\n",
    "    \n",
    "    for i in range(count_iter):\n",
    "        for x, y in zip(x_list, y_list):\n",
    "            x = list(x)\n",
    "            w1, w2 = Multilayer_perceptron_2(x=x, y=y, w1=w1, w2=w2, hidden_layer=hidden_layer)\n",
    "            \n",
    "    print(predict(x), x , y)\n",
    "    return predict"
   ]
  },
  {
   "cell_type": "code",
   "execution_count": 1,
   "metadata": {},
   "outputs": [
    {
     "ename": "NameError",
     "evalue": "name 'np' is not defined",
     "output_type": "error",
     "traceback": [
      "\u001b[1;31m---------------------------------------------------------------------------\u001b[0m",
      "\u001b[1;31mNameError\u001b[0m                                 Traceback (most recent call last)",
      "\u001b[1;32m<ipython-input-1-c9c7608dd196>\u001b[0m in \u001b[0;36m<module>\u001b[1;34m\u001b[0m\n\u001b[1;32m----> 1\u001b[1;33m \u001b[0mx\u001b[0m\u001b[1;33m,\u001b[0m \u001b[0my\u001b[0m \u001b[1;33m=\u001b[0m \u001b[0mnp\u001b[0m\u001b[1;33m.\u001b[0m\u001b[0marange\u001b[0m\u001b[1;33m(\u001b[0m\u001b[1;36m0\u001b[0m\u001b[1;33m,\u001b[0m \u001b[1;36m5\u001b[0m\u001b[1;33m,\u001b[0m \u001b[1;36m0.2\u001b[0m\u001b[1;33m)\u001b[0m\u001b[1;33m,\u001b[0m \u001b[0mnp\u001b[0m\u001b[1;33m.\u001b[0m\u001b[0marange\u001b[0m\u001b[1;33m(\u001b[0m\u001b[1;36m0\u001b[0m\u001b[1;33m,\u001b[0m \u001b[1;36m5\u001b[0m\u001b[1;33m,\u001b[0m \u001b[1;36m0.2\u001b[0m\u001b[1;33m)\u001b[0m\u001b[1;33m\u001b[0m\u001b[1;33m\u001b[0m\u001b[0m\n\u001b[0m\u001b[0;32m      2\u001b[0m \u001b[0mfun\u001b[0m \u001b[1;33m=\u001b[0m \u001b[1;32mlambda\u001b[0m \u001b[0mx\u001b[0m\u001b[1;33m,\u001b[0m\u001b[0my\u001b[0m\u001b[1;33m:\u001b[0m \u001b[0mx\u001b[0m\u001b[1;33m+\u001b[0m\u001b[0my\u001b[0m\u001b[1;33m\u001b[0m\u001b[1;33m\u001b[0m\u001b[0m\n\u001b[0;32m      3\u001b[0m \u001b[0mf\u001b[0m \u001b[1;33m=\u001b[0m \u001b[1;33m[\u001b[0m\u001b[0mfun\u001b[0m\u001b[1;33m(\u001b[0m\u001b[0mxi\u001b[0m\u001b[1;33m,\u001b[0m\u001b[0myi\u001b[0m\u001b[1;33m)\u001b[0m \u001b[1;32mfor\u001b[0m \u001b[0mxi\u001b[0m\u001b[1;33m,\u001b[0m \u001b[0myi\u001b[0m \u001b[1;32min\u001b[0m \u001b[0mproduct\u001b[0m\u001b[1;33m(\u001b[0m\u001b[0mx\u001b[0m\u001b[1;33m,\u001b[0m\u001b[0my\u001b[0m\u001b[1;33m)\u001b[0m\u001b[1;33m]\u001b[0m\u001b[1;33m\u001b[0m\u001b[1;33m\u001b[0m\u001b[0m\n\u001b[0;32m      4\u001b[0m \u001b[1;33m\u001b[0m\u001b[0m\n\u001b[0;32m      5\u001b[0m \u001b[1;33m\u001b[0m\u001b[0m\n",
      "\u001b[1;31mNameError\u001b[0m: name 'np' is not defined"
     ]
    }
   ],
   "source": [
    "x, y = np.arange(0, 5, 0.2), np.arange(0, 5, 0.2)\n",
    "fun = lambda x,y: x+y\n",
    "f = [fun(xi,yi) for xi, yi in product(x,y)]\n",
    "\n",
    "\n",
    "prd = online_perceptron(x_list=list(product(x,y)), y_list=f, count_iter=1000)"
   ]
  },
  {
   "cell_type": "markdown",
   "metadata": {},
   "source": [
    "# debug \n",
    "\n",
    "\n",
    "\n"
   ]
  },
  {
   "cell_type": "code",
   "execution_count": 24,
   "metadata": {},
   "outputs": [
    {
     "data": {
      "text/plain": [
       "0.5871315788168427"
      ]
     },
     "execution_count": 24,
     "metadata": {},
     "output_type": "execute_result"
    }
   ],
   "source": [
    "activization_function(0.12+0.133*0.52+0.205*0.525+0.105*0.527)"
   ]
  },
  {
   "cell_type": "code",
   "execution_count": 25,
   "metadata": {},
   "outputs": [
    {
     "data": {
      "text/plain": [
       "-0.142306997"
      ]
     },
     "execution_count": 25,
     "metadata": {},
     "output_type": "execute_result"
    }
   ],
   "source": [
    "0.587*(1-0.587)*(0-0.587)"
   ]
  },
  {
   "cell_type": "code",
   "execution_count": 26,
   "metadata": {},
   "outputs": [
    {
     "data": {
      "text/plain": [
       "(-0.022300000000000014, 0.059004, 0.13029249999999998, 0.03000789999999999)"
      ]
     },
     "execution_count": 26,
     "metadata": {},
     "output_type": "execute_result"
    }
   ],
   "source": [
    "-0.1423*1+0.12, -0.1423*0.52+0.133, -0.1423*0.525+0.205, -0.1423*0.527+0.105"
   ]
  },
  {
   "cell_type": "code",
   "execution_count": null,
   "metadata": {},
   "outputs": [],
   "source": [
    "prd([1,2]), prd([1,1]), prd([1,3])"
   ]
  },
  {
   "cell_type": "code",
   "execution_count": 38,
   "metadata": {},
   "outputs": [
    {
     "name": "stdout",
     "output_type": "stream",
     "text": [
      "[0.02927067] [1, 1] 0.02\n"
     ]
    },
    {
     "data": {
      "text/plain": [
       "(array([0.02927067]), array([0.02482367]), array([0.02509714]))"
      ]
     },
     "execution_count": 38,
     "metadata": {},
     "output_type": "execute_result"
    }
   ],
   "source": [
    "prd = online_perceptron()\n",
    "prd([1,1]), prd([2,1]), prd([1,2])"
   ]
  },
  {
   "cell_type": "code",
   "execution_count": null,
   "metadata": {},
   "outputs": [],
   "source": []
  }
 ],
 "metadata": {
  "kernelspec": {
   "display_name": "Python 3",
   "language": "python",
   "name": "python3"
  },
  "language_info": {
   "codemirror_mode": {
    "name": "ipython",
    "version": 3
   },
   "file_extension": ".py",
   "mimetype": "text/x-python",
   "name": "python",
   "nbconvert_exporter": "python",
   "pygments_lexer": "ipython3",
   "version": "3.7.2"
  }
 },
 "nbformat": 4,
 "nbformat_minor": 2
}

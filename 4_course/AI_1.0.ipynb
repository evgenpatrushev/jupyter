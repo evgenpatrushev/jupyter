{
 "cells": [
  {
   "cell_type": "markdown",
   "metadata": {},
   "source": [
    "# лабораторна робота по ИИ\n",
    "\n",
    "## 1) один нейрон"
   ]
  },
  {
   "cell_type": "code",
   "execution_count": 1,
   "metadata": {},
   "outputs": [],
   "source": [
    "import pandas as pd\n",
    "import numpy as np\n",
    "import matplotlib.pyplot as plt\n",
    "from itertools import product"
   ]
  },
  {
   "cell_type": "code",
   "execution_count": 12,
   "metadata": {},
   "outputs": [],
   "source": [
    "def neuron(x=[1,7,4,5], y=0.3, delta_error=0.1):     \n",
    "    \n",
    "    if len(x)!=4:\n",
    "        print('error len of x')\n",
    "        return \n",
    "    if type(y) is not float and type(y) is not int:\n",
    "        print('error y type is uncorrect')\n",
    "        return \n",
    "    if type(delta_error) is not float and type(delta_error) is not int:\n",
    "        print('error delta_error type is uncorrect')\n",
    "        return \n",
    "    \n",
    "    \n",
    "    # initialization var\n",
    "    x = np.array([1] + x)\n",
    "    w = np.random.normal(loc=0.1, scale=0.05, size=(len(x), 1))\n",
    "    df = pd.DataFrame(columns=['w0', 'w1', 'w2', 'w3', 'w4', 'y_predict', 'delta'])\n",
    "    \n",
    "    def predict(x_list):\n",
    "        x_list = np.array([1] + x_list)\n",
    "        s = np.dot(x_list, w)[0]\n",
    "        y = activization_function(s)\n",
    "        return y\n",
    "    \n",
    "    while True:\n",
    "        \n",
    "        s_m = np.dot(x, w)[0]\n",
    "        y_m = activization_function(s_m)\n",
    "        \n",
    "        delta = abs((y_m - y) / y)\n",
    "        df = df.append({'w0':w[0][0], 'w1':w[1][0], 'w2':w[2][0], 'w3':w[3][0], 'w4':w[4][0], 'y_predict':y_m, 'delta': delta}, \n",
    "                       ignore_index=True)\n",
    "        \n",
    "        if delta <= delta_error: \n",
    "            return df, predict\n",
    "        \n",
    "        eta = y_m*(1-y_m)\n",
    "        delta_w = eta * (y - y_m) * x\n",
    "        w = w + delta_w.reshape(len(x), 1)\n",
    "        "
   ]
  },
  {
   "cell_type": "code",
   "execution_count": 13,
   "metadata": {},
   "outputs": [],
   "source": [
    "def activization_function(sum_x):\n",
    "    return 1/(1 + np.exp(-sum_x))"
   ]
  },
  {
   "cell_type": "code",
   "execution_count": 14,
   "metadata": {},
   "outputs": [
    {
     "data": {
      "text/html": [
       "<div>\n",
       "<style scoped>\n",
       "    .dataframe tbody tr th:only-of-type {\n",
       "        vertical-align: middle;\n",
       "    }\n",
       "\n",
       "    .dataframe tbody tr th {\n",
       "        vertical-align: top;\n",
       "    }\n",
       "\n",
       "    .dataframe thead th {\n",
       "        text-align: right;\n",
       "    }\n",
       "</style>\n",
       "<table border=\"1\" class=\"dataframe\">\n",
       "  <thead>\n",
       "    <tr style=\"text-align: right;\">\n",
       "      <th></th>\n",
       "      <th>w0</th>\n",
       "      <th>w1</th>\n",
       "      <th>w2</th>\n",
       "      <th>w3</th>\n",
       "      <th>w4</th>\n",
       "      <th>y_predict</th>\n",
       "      <th>delta</th>\n",
       "    </tr>\n",
       "  </thead>\n",
       "  <tbody>\n",
       "    <tr>\n",
       "      <th>3</th>\n",
       "      <td>0.172151</td>\n",
       "      <td>0.106911</td>\n",
       "      <td>-0.038246</td>\n",
       "      <td>-0.003698</td>\n",
       "      <td>0.021699</td>\n",
       "      <td>0.526237</td>\n",
       "      <td>0.754123</td>\n",
       "    </tr>\n",
       "    <tr>\n",
       "      <th>4</th>\n",
       "      <td>0.115747</td>\n",
       "      <td>0.050507</td>\n",
       "      <td>-0.433070</td>\n",
       "      <td>-0.229312</td>\n",
       "      <td>-0.260318</td>\n",
       "      <td>0.006156</td>\n",
       "      <td>0.979478</td>\n",
       "    </tr>\n",
       "    <tr>\n",
       "      <th>5</th>\n",
       "      <td>0.117545</td>\n",
       "      <td>0.052305</td>\n",
       "      <td>-0.420485</td>\n",
       "      <td>-0.222120</td>\n",
       "      <td>-0.251329</td>\n",
       "      <td>0.007256</td>\n",
       "      <td>0.975814</td>\n",
       "    </tr>\n",
       "    <tr>\n",
       "      <th>6</th>\n",
       "      <td>0.119654</td>\n",
       "      <td>0.054414</td>\n",
       "      <td>-0.405724</td>\n",
       "      <td>-0.213686</td>\n",
       "      <td>-0.240786</td>\n",
       "      <td>0.008796</td>\n",
       "      <td>0.970681</td>\n",
       "    </tr>\n",
       "    <tr>\n",
       "      <th>7</th>\n",
       "      <td>0.122193</td>\n",
       "      <td>0.056952</td>\n",
       "      <td>-0.387952</td>\n",
       "      <td>-0.203530</td>\n",
       "      <td>-0.228092</td>\n",
       "      <td>0.011084</td>\n",
       "      <td>0.963053</td>\n",
       "    </tr>\n",
       "    <tr>\n",
       "      <th>8</th>\n",
       "      <td>0.125360</td>\n",
       "      <td>0.060119</td>\n",
       "      <td>-0.365784</td>\n",
       "      <td>-0.190863</td>\n",
       "      <td>-0.212257</td>\n",
       "      <td>0.014778</td>\n",
       "      <td>0.950741</td>\n",
       "    </tr>\n",
       "    <tr>\n",
       "      <th>9</th>\n",
       "      <td>0.129512</td>\n",
       "      <td>0.064272</td>\n",
       "      <td>-0.336716</td>\n",
       "      <td>-0.174252</td>\n",
       "      <td>-0.191494</td>\n",
       "      <td>0.021506</td>\n",
       "      <td>0.928315</td>\n",
       "    </tr>\n",
       "    <tr>\n",
       "      <th>10</th>\n",
       "      <td>0.135373</td>\n",
       "      <td>0.070132</td>\n",
       "      <td>-0.295693</td>\n",
       "      <td>-0.150811</td>\n",
       "      <td>-0.162192</td>\n",
       "      <td>0.036314</td>\n",
       "      <td>0.878952</td>\n",
       "    </tr>\n",
       "    <tr>\n",
       "      <th>11</th>\n",
       "      <td>0.144601</td>\n",
       "      <td>0.079360</td>\n",
       "      <td>-0.231098</td>\n",
       "      <td>-0.113899</td>\n",
       "      <td>-0.116053</td>\n",
       "      <td>0.080944</td>\n",
       "      <td>0.730186</td>\n",
       "    </tr>\n",
       "    <tr>\n",
       "      <th>12</th>\n",
       "      <td>0.160897</td>\n",
       "      <td>0.095656</td>\n",
       "      <td>-0.117026</td>\n",
       "      <td>-0.048715</td>\n",
       "      <td>-0.034573</td>\n",
       "      <td>0.282854</td>\n",
       "      <td>0.057154</td>\n",
       "    </tr>\n",
       "  </tbody>\n",
       "</table>\n",
       "</div>"
      ],
      "text/plain": [
       "          w0        w1        w2        w3        w4  y_predict     delta\n",
       "3   0.172151  0.106911 -0.038246 -0.003698  0.021699   0.526237  0.754123\n",
       "4   0.115747  0.050507 -0.433070 -0.229312 -0.260318   0.006156  0.979478\n",
       "5   0.117545  0.052305 -0.420485 -0.222120 -0.251329   0.007256  0.975814\n",
       "6   0.119654  0.054414 -0.405724 -0.213686 -0.240786   0.008796  0.970681\n",
       "7   0.122193  0.056952 -0.387952 -0.203530 -0.228092   0.011084  0.963053\n",
       "8   0.125360  0.060119 -0.365784 -0.190863 -0.212257   0.014778  0.950741\n",
       "9   0.129512  0.064272 -0.336716 -0.174252 -0.191494   0.021506  0.928315\n",
       "10  0.135373  0.070132 -0.295693 -0.150811 -0.162192   0.036314  0.878952\n",
       "11  0.144601  0.079360 -0.231098 -0.113899 -0.116053   0.080944  0.730186\n",
       "12  0.160897  0.095656 -0.117026 -0.048715 -0.034573   0.282854  0.057154"
      ]
     },
     "execution_count": 14,
     "metadata": {},
     "output_type": "execute_result"
    }
   ],
   "source": [
    "df, prd = neuron()\n",
    "df[-10:]"
   ]
  },
  {
   "cell_type": "code",
   "execution_count": 15,
   "metadata": {},
   "outputs": [
    {
     "data": {
      "text/plain": [
       "0.37659028798191285"
      ]
     },
     "execution_count": 15,
     "metadata": {},
     "output_type": "execute_result"
    }
   ],
   "source": [
    "prd([2,4,3,7])"
   ]
  },
  {
   "cell_type": "markdown",
   "metadata": {},
   "source": [
    "## 2) Многослойный перцептрон, алгоритм обратного распространения ошибки 1\\*1\\*1"
   ]
  },
  {
   "cell_type": "code",
   "execution_count": 19,
   "metadata": {},
   "outputs": [],
   "source": [
    "def Multilayer_perceptron(x=7, y=0.3, delta_error=0.1):\n",
    "    if type(x) is not float and type(x) is not int:\n",
    "        print('error x type is uncorrect')\n",
    "        return \n",
    "    if type(y) is not float and type(y) is not int:\n",
    "        print('error y type is uncorrect')\n",
    "        return \n",
    "    if type(delta_error) is not float and type(delta_error) is not int:\n",
    "        print('error delta_error type is uncorrect')\n",
    "        return \n",
    "    \n",
    "    df = pd.DataFrame(columns=['delta', 'y_pr'])\n",
    "    w12, w23 = np.random.normal(loc=0.1, scale=0.05, size=2)\n",
    "    \n",
    "    def predict(x_pr):\n",
    "        x_s1 = x_pr * w12\n",
    "        y = activization_function(x_s1)\n",
    "        \n",
    "        x_s2 = y * w23\n",
    "        return activization_function(x_s2)\n",
    "    \n",
    "    while True:\n",
    "        x_sum1 = x * w12\n",
    "        y2 = activization_function(x_sum1)\n",
    "        \n",
    "        x_sum2 = y2 * w23\n",
    "        y3 = activization_function(x_sum2)\n",
    "        \n",
    "        delta = abs((y3 - y) / y)\n",
    "    \n",
    "        df = df.append({'delta':delta, 'y_pr':y3}, ignore_index=True)\n",
    "        \n",
    "        if delta <= delta_error:\n",
    "            return df, predict\n",
    "        \n",
    "        sigma_3 = y3 * (1-y3) * (y - y3)\n",
    "        delta_w23 = y2 * sigma_3\n",
    "        \n",
    "        sigma_2 = y2 * (1-y2) * (sigma_3 * w23)\n",
    "        delta_w12 = x * sigma_2\n",
    "        \n",
    "        w12 += delta_w12\n",
    "        w23 += delta_w23\n",
    "        "
   ]
  },
  {
   "cell_type": "code",
   "execution_count": 20,
   "metadata": {},
   "outputs": [
    {
     "data": {
      "text/html": [
       "<div>\n",
       "<style scoped>\n",
       "    .dataframe tbody tr th:only-of-type {\n",
       "        vertical-align: middle;\n",
       "    }\n",
       "\n",
       "    .dataframe tbody tr th {\n",
       "        vertical-align: top;\n",
       "    }\n",
       "\n",
       "    .dataframe thead th {\n",
       "        text-align: right;\n",
       "    }\n",
       "</style>\n",
       "<table border=\"1\" class=\"dataframe\">\n",
       "  <thead>\n",
       "    <tr style=\"text-align: right;\">\n",
       "      <th></th>\n",
       "      <th>delta</th>\n",
       "      <th>y_pr</th>\n",
       "    </tr>\n",
       "  </thead>\n",
       "  <tbody>\n",
       "    <tr>\n",
       "      <th>34</th>\n",
       "      <td>0.149483</td>\n",
       "      <td>0.344845</td>\n",
       "    </tr>\n",
       "    <tr>\n",
       "      <th>35</th>\n",
       "      <td>0.142113</td>\n",
       "      <td>0.342634</td>\n",
       "    </tr>\n",
       "    <tr>\n",
       "      <th>36</th>\n",
       "      <td>0.135139</td>\n",
       "      <td>0.340542</td>\n",
       "    </tr>\n",
       "    <tr>\n",
       "      <th>37</th>\n",
       "      <td>0.128536</td>\n",
       "      <td>0.338561</td>\n",
       "    </tr>\n",
       "    <tr>\n",
       "      <th>38</th>\n",
       "      <td>0.122284</td>\n",
       "      <td>0.336685</td>\n",
       "    </tr>\n",
       "    <tr>\n",
       "      <th>39</th>\n",
       "      <td>0.116360</td>\n",
       "      <td>0.334908</td>\n",
       "    </tr>\n",
       "    <tr>\n",
       "      <th>40</th>\n",
       "      <td>0.110747</td>\n",
       "      <td>0.333224</td>\n",
       "    </tr>\n",
       "    <tr>\n",
       "      <th>41</th>\n",
       "      <td>0.105427</td>\n",
       "      <td>0.331628</td>\n",
       "    </tr>\n",
       "    <tr>\n",
       "      <th>42</th>\n",
       "      <td>0.100381</td>\n",
       "      <td>0.330114</td>\n",
       "    </tr>\n",
       "    <tr>\n",
       "      <th>43</th>\n",
       "      <td>0.095596</td>\n",
       "      <td>0.328679</td>\n",
       "    </tr>\n",
       "  </tbody>\n",
       "</table>\n",
       "</div>"
      ],
      "text/plain": [
       "       delta      y_pr\n",
       "34  0.149483  0.344845\n",
       "35  0.142113  0.342634\n",
       "36  0.135139  0.340542\n",
       "37  0.128536  0.338561\n",
       "38  0.122284  0.336685\n",
       "39  0.116360  0.334908\n",
       "40  0.110747  0.333224\n",
       "41  0.105427  0.331628\n",
       "42  0.100381  0.330114\n",
       "43  0.095596  0.328679"
      ]
     },
     "execution_count": 20,
     "metadata": {},
     "output_type": "execute_result"
    }
   ],
   "source": [
    "df, prd = Multilayer_perceptron()\n",
    "df[-10:]"
   ]
  },
  {
   "cell_type": "code",
   "execution_count": 21,
   "metadata": {},
   "outputs": [
    {
     "data": {
      "text/plain": [
       "0.33005254955271396"
      ]
     },
     "execution_count": 21,
     "metadata": {},
     "output_type": "execute_result"
    }
   ],
   "source": [
    "prd(6.66)"
   ]
  },
  {
   "cell_type": "markdown",
   "metadata": {},
   "source": [
    "## 3) многослойный песептрон с одним скрытым слоем"
   ]
  },
  {
   "cell_type": "code",
   "execution_count": 5,
   "metadata": {},
   "outputs": [],
   "source": [
    "def Multilayer_perceptron_2(x=[2,4], y=0.6, hidden_layer=3, w1=[], w2=[]):\n",
    "\n",
    "    x = [1] + list(x)\n",
    "    y_hidden = np.array([1] + list(activization_function(np.dot(x, w1))))\n",
    "    y_predict = activization_function(np.dot(y_hidden, w2))\n",
    "\n",
    "    d_exit = (y - y_predict)\n",
    "    delta_exit = y_predict * (1 - y_predict) * d_exit\n",
    "    delta_hidden = y_hidden * (1 - y_hidden) * (d_exit * w2.reshape(hidden_layer + 1))\n",
    "    \n",
    "    for i in range(len(x)):\n",
    "        w1[i,:] += x[i] * delta_hidden[1:]\n",
    "    \n",
    "    w2 += y_hidden.reshape(hidden_layer+1, 1) * delta_exit\n",
    "\n",
    "    return w1, w2, y_predict\n",
    "        \n",
    "        "
   ]
  },
  {
   "cell_type": "code",
   "execution_count": 16,
   "metadata": {},
   "outputs": [],
   "source": [
    "def online_perceptron(x_list=[[0,0],[1,2],[1,1],[2,1],[2,2],[3,0],[1,0]], \n",
    "                      y_list=[0.0, 0.3, 0.2, 0.3, 0.4, 0.3, 0.1], \n",
    "                     count_iter=1000):\n",
    "    \n",
    "    hidden_layer = 3\n",
    "    exit_layer = 1\n",
    "\n",
    "    w1 = np.random.normal(loc=0.1, scale=0.05, size=(len(x_list[0]) + 1, hidden_layer))\n",
    "    w2 = np.random.normal(loc=0.1, scale=0.05, size=(hidden_layer + 1, exit_layer))\n",
    "    \n",
    "    df = pd.DataFrame(columns=['x1', 'x2', 'y_pr'])\n",
    "\n",
    "\n",
    "    def predict(x_pr):\n",
    "        y_h = np.array([1] + list(activization_function(np.dot([1] + x_pr, w1))))\n",
    "        return activization_function(np.dot(y_h, w2))[0]\n",
    "    \n",
    "      for i in range(count_iter):\n",
    "        for x, y in zip(x_list, y_list):\n",
    "            x = list(x)\n",
    "            w1, w2, y_pr = Multilayer_perceptron_2(x=x, y=y, w1=w1, w2=w2, hidden_layer=hidden_layer)\n",
    "            df = df.append({'x1':x[0], 'x2':x[1], 'y_pr':y_pr}, ignore_index=True)\n",
    "            \n",
    "            \n",
    "    return predict, df"
   ]
  },
  {
   "cell_type": "code",
   "execution_count": 20,
   "metadata": {},
   "outputs": [],
   "source": [
    "def Multilayer_perceptron_3(x=[2,4], y=0.6, delta_error=0.01 ,hidden_layer=3, exit_layer=1, w1=[], w2=[]):\n",
    "\n",
    "    w1 = np.random.normal(loc=0.1, scale=0.05, size=(len(x) + 1, hidden_layer))\n",
    "    w2 = np.random.normal(loc=0.1, scale=0.05, size=(hidden_layer + 1, exit_layer))\n",
    "    \n",
    "    x = [1] + list(x)\n",
    "    df = pd.DataFrame(columns=['delta', 'y_pr'])\n",
    "    \n",
    "    def predict(x_pr):\n",
    "        y_h = np.array([1] + list(activization_function(np.dot([1] + x_pr, w1))))\n",
    "        return activization_function(np.dot(y_h, w2))[0]\n",
    "    \n",
    "\n",
    "    while True:\n",
    "\n",
    "        y_hidden = np.array([1] + list(activization_function(np.dot(x, w1))))\n",
    "        y_predict = activization_function(np.dot(y_hidden, w2))\n",
    "        \n",
    "        delta = abs((y_predict - y) / y)\n",
    "        \n",
    "        df = df.append({'delta':delta, 'y_pr':y_predict}, ignore_index=True)\n",
    "        \n",
    "        if delta <= delta_error:\n",
    "            return predict, df\n",
    "\n",
    "        d_exit = (y - y_predict)\n",
    "        delta_exit = y_predict * (1 - y_predict) * d_exit\n",
    "        delta_hidden = y_hidden * (1 - y_hidden) * (d_exit * w2.reshape(hidden_layer + 1))\n",
    "\n",
    "        for i in range(len(x)):\n",
    "            w1[i,:] += x[i] * delta_hidden[1:]\n",
    "\n",
    "        w2 += y_hidden.reshape(hidden_layer+1, 1) * delta_exit\n"
   ]
  },
  {
   "cell_type": "code",
   "execution_count": 22,
   "metadata": {},
   "outputs": [
    {
     "name": "stdout",
     "output_type": "stream",
     "text": [
      "0.5940490661558847\n"
     ]
    },
    {
     "data": {
      "text/html": [
       "<div>\n",
       "<style scoped>\n",
       "    .dataframe tbody tr th:only-of-type {\n",
       "        vertical-align: middle;\n",
       "    }\n",
       "\n",
       "    .dataframe tbody tr th {\n",
       "        vertical-align: top;\n",
       "    }\n",
       "\n",
       "    .dataframe thead th {\n",
       "        text-align: right;\n",
       "    }\n",
       "</style>\n",
       "<table border=\"1\" class=\"dataframe\">\n",
       "  <thead>\n",
       "    <tr style=\"text-align: right;\">\n",
       "      <th></th>\n",
       "      <th>delta</th>\n",
       "      <th>y_pr</th>\n",
       "    </tr>\n",
       "  </thead>\n",
       "  <tbody>\n",
       "    <tr>\n",
       "      <th>0</th>\n",
       "      <td>[0.023397127435178154]</td>\n",
       "      <td>[0.5859617235388931]</td>\n",
       "    </tr>\n",
       "    <tr>\n",
       "      <th>1</th>\n",
       "      <td>[0.019715770377362423]</td>\n",
       "      <td>[0.5881705377735825]</td>\n",
       "    </tr>\n",
       "    <tr>\n",
       "      <th>2</th>\n",
       "      <td>[0.01660913348121148]</td>\n",
       "      <td>[0.5900345199112731]</td>\n",
       "    </tr>\n",
       "    <tr>\n",
       "      <th>3</th>\n",
       "      <td>[0.013988904003653935]</td>\n",
       "      <td>[0.5916066575978076]</td>\n",
       "    </tr>\n",
       "    <tr>\n",
       "      <th>4</th>\n",
       "      <td>[0.011779891433464548]</td>\n",
       "      <td>[0.5929320651399212]</td>\n",
       "    </tr>\n",
       "    <tr>\n",
       "      <th>5</th>\n",
       "      <td>[0.00991822307352545]</td>\n",
       "      <td>[0.5940490661558847]</td>\n",
       "    </tr>\n",
       "  </tbody>\n",
       "</table>\n",
       "</div>"
      ],
      "text/plain": [
       "                    delta                  y_pr\n",
       "0  [0.023397127435178154]  [0.5859617235388931]\n",
       "1  [0.019715770377362423]  [0.5881705377735825]\n",
       "2   [0.01660913348121148]  [0.5900345199112731]\n",
       "3  [0.013988904003653935]  [0.5916066575978076]\n",
       "4  [0.011779891433464548]  [0.5929320651399212]\n",
       "5   [0.00991822307352545]  [0.5940490661558847]"
      ]
     },
     "execution_count": 22,
     "metadata": {},
     "output_type": "execute_result"
    }
   ],
   "source": [
    "pr, df = Multilayer_perceptron_3()\n",
    "print(pr([2,4]))\n",
    "df[-10:]"
   ]
  },
  {
   "cell_type": "markdown",
   "metadata": {},
   "source": [
    "# debug \n",
    "\n",
    "\n",
    "\n"
   ]
  },
  {
   "cell_type": "code",
   "execution_count": 17,
   "metadata": {},
   "outputs": [
    {
     "data": {
      "text/plain": [
       "(0.1, 0.31, 0.3)"
      ]
     },
     "execution_count": 17,
     "metadata": {},
     "output_type": "execute_result"
    }
   ],
   "source": [
    "prd, df = online_perceptron()\n",
    "round(prd([1,0]),1), round(prd([2,1]),2), round(prd([3,0]),1)"
   ]
  },
  {
   "cell_type": "code",
   "execution_count": 18,
   "metadata": {},
   "outputs": [
    {
     "data": {
      "text/html": [
       "<div>\n",
       "<style scoped>\n",
       "    .dataframe tbody tr th:only-of-type {\n",
       "        vertical-align: middle;\n",
       "    }\n",
       "\n",
       "    .dataframe tbody tr th {\n",
       "        vertical-align: top;\n",
       "    }\n",
       "\n",
       "    .dataframe thead th {\n",
       "        text-align: right;\n",
       "    }\n",
       "</style>\n",
       "<table border=\"1\" class=\"dataframe\">\n",
       "  <thead>\n",
       "    <tr style=\"text-align: right;\">\n",
       "      <th></th>\n",
       "      <th>x1</th>\n",
       "      <th>x2</th>\n",
       "      <th>y_pr</th>\n",
       "    </tr>\n",
       "  </thead>\n",
       "  <tbody>\n",
       "    <tr>\n",
       "      <th>0</th>\n",
       "      <td>0</td>\n",
       "      <td>0</td>\n",
       "      <td>[0.560353802039901]</td>\n",
       "    </tr>\n",
       "    <tr>\n",
       "      <th>1</th>\n",
       "      <td>1</td>\n",
       "      <td>2</td>\n",
       "      <td>[0.4991597631494706]</td>\n",
       "    </tr>\n",
       "    <tr>\n",
       "      <th>2</th>\n",
       "      <td>1</td>\n",
       "      <td>1</td>\n",
       "      <td>[0.4730541961930322]</td>\n",
       "    </tr>\n",
       "    <tr>\n",
       "      <th>3</th>\n",
       "      <td>2</td>\n",
       "      <td>1</td>\n",
       "      <td>[0.4393551716608629]</td>\n",
       "    </tr>\n",
       "    <tr>\n",
       "      <th>4</th>\n",
       "      <td>2</td>\n",
       "      <td>2</td>\n",
       "      <td>[0.4211701200644246]</td>\n",
       "    </tr>\n",
       "    <tr>\n",
       "      <th>5</th>\n",
       "      <td>3</td>\n",
       "      <td>0</td>\n",
       "      <td>[0.41963925368460275]</td>\n",
       "    </tr>\n",
       "    <tr>\n",
       "      <th>6</th>\n",
       "      <td>1</td>\n",
       "      <td>0</td>\n",
       "      <td>[0.4069398278991924]</td>\n",
       "    </tr>\n",
       "    <tr>\n",
       "      <th>7</th>\n",
       "      <td>0</td>\n",
       "      <td>0</td>\n",
       "      <td>[0.3748540697147333]</td>\n",
       "    </tr>\n",
       "    <tr>\n",
       "      <th>8</th>\n",
       "      <td>1</td>\n",
       "      <td>2</td>\n",
       "      <td>[0.33019129169588535]</td>\n",
       "    </tr>\n",
       "    <tr>\n",
       "      <th>9</th>\n",
       "      <td>1</td>\n",
       "      <td>1</td>\n",
       "      <td>[0.3294811659587209]</td>\n",
       "    </tr>\n",
       "    <tr>\n",
       "      <th>10</th>\n",
       "      <td>2</td>\n",
       "      <td>1</td>\n",
       "      <td>[0.3137843686543517]</td>\n",
       "    </tr>\n",
       "    <tr>\n",
       "      <th>11</th>\n",
       "      <td>2</td>\n",
       "      <td>2</td>\n",
       "      <td>[0.30945076990796444]</td>\n",
       "    </tr>\n",
       "  </tbody>\n",
       "</table>\n",
       "</div>"
      ],
      "text/plain": [
       "   x1 x2                   y_pr\n",
       "0   0  0    [0.560353802039901]\n",
       "1   1  2   [0.4991597631494706]\n",
       "2   1  1   [0.4730541961930322]\n",
       "3   2  1   [0.4393551716608629]\n",
       "4   2  2   [0.4211701200644246]\n",
       "5   3  0  [0.41963925368460275]\n",
       "6   1  0   [0.4069398278991924]\n",
       "7   0  0   [0.3748540697147333]\n",
       "8   1  2  [0.33019129169588535]\n",
       "9   1  1   [0.3294811659587209]\n",
       "10  2  1   [0.3137843686543517]\n",
       "11  2  2  [0.30945076990796444]"
      ]
     },
     "execution_count": 18,
     "metadata": {},
     "output_type": "execute_result"
    }
   ],
   "source": [
    "df.iloc[:3*4,:]"
   ]
  },
  {
   "cell_type": "code",
   "execution_count": 19,
   "metadata": {},
   "outputs": [
    {
     "data": {
      "text/html": [
       "<div>\n",
       "<style scoped>\n",
       "    .dataframe tbody tr th:only-of-type {\n",
       "        vertical-align: middle;\n",
       "    }\n",
       "\n",
       "    .dataframe tbody tr th {\n",
       "        vertical-align: top;\n",
       "    }\n",
       "\n",
       "    .dataframe thead th {\n",
       "        text-align: right;\n",
       "    }\n",
       "</style>\n",
       "<table border=\"1\" class=\"dataframe\">\n",
       "  <thead>\n",
       "    <tr style=\"text-align: right;\">\n",
       "      <th></th>\n",
       "      <th>x1</th>\n",
       "      <th>x2</th>\n",
       "      <th>y_pr</th>\n",
       "    </tr>\n",
       "  </thead>\n",
       "  <tbody>\n",
       "    <tr>\n",
       "      <th>6988</th>\n",
       "      <td>1</td>\n",
       "      <td>1</td>\n",
       "      <td>[0.19359463852235573]</td>\n",
       "    </tr>\n",
       "    <tr>\n",
       "      <th>6989</th>\n",
       "      <td>2</td>\n",
       "      <td>1</td>\n",
       "      <td>[0.3122216175649477]</td>\n",
       "    </tr>\n",
       "    <tr>\n",
       "      <th>6990</th>\n",
       "      <td>2</td>\n",
       "      <td>2</td>\n",
       "      <td>[0.3885954016361209]</td>\n",
       "    </tr>\n",
       "    <tr>\n",
       "      <th>6991</th>\n",
       "      <td>3</td>\n",
       "      <td>0</td>\n",
       "      <td>[0.29759335943950965]</td>\n",
       "    </tr>\n",
       "    <tr>\n",
       "      <th>6992</th>\n",
       "      <td>1</td>\n",
       "      <td>0</td>\n",
       "      <td>[0.09792596719205415]</td>\n",
       "    </tr>\n",
       "    <tr>\n",
       "      <th>6993</th>\n",
       "      <td>0</td>\n",
       "      <td>0</td>\n",
       "      <td>[0.01877840772189724]</td>\n",
       "    </tr>\n",
       "    <tr>\n",
       "      <th>6994</th>\n",
       "      <td>1</td>\n",
       "      <td>2</td>\n",
       "      <td>[0.30553358390089014]</td>\n",
       "    </tr>\n",
       "    <tr>\n",
       "      <th>6995</th>\n",
       "      <td>1</td>\n",
       "      <td>1</td>\n",
       "      <td>[0.19359977603527576]</td>\n",
       "    </tr>\n",
       "    <tr>\n",
       "      <th>6996</th>\n",
       "      <td>2</td>\n",
       "      <td>1</td>\n",
       "      <td>[0.3122120528815813]</td>\n",
       "    </tr>\n",
       "    <tr>\n",
       "      <th>6997</th>\n",
       "      <td>2</td>\n",
       "      <td>2</td>\n",
       "      <td>[0.3886086356346366]</td>\n",
       "    </tr>\n",
       "    <tr>\n",
       "      <th>6998</th>\n",
       "      <td>3</td>\n",
       "      <td>0</td>\n",
       "      <td>[0.2975941287875665]</td>\n",
       "    </tr>\n",
       "    <tr>\n",
       "      <th>6999</th>\n",
       "      <td>1</td>\n",
       "      <td>0</td>\n",
       "      <td>[0.09792984002657285]</td>\n",
       "    </tr>\n",
       "  </tbody>\n",
       "</table>\n",
       "</div>"
      ],
      "text/plain": [
       "     x1 x2                   y_pr\n",
       "6988  1  1  [0.19359463852235573]\n",
       "6989  2  1   [0.3122216175649477]\n",
       "6990  2  2   [0.3885954016361209]\n",
       "6991  3  0  [0.29759335943950965]\n",
       "6992  1  0  [0.09792596719205415]\n",
       "6993  0  0  [0.01877840772189724]\n",
       "6994  1  2  [0.30553358390089014]\n",
       "6995  1  1  [0.19359977603527576]\n",
       "6996  2  1   [0.3122120528815813]\n",
       "6997  2  2   [0.3886086356346366]\n",
       "6998  3  0   [0.2975941287875665]\n",
       "6999  1  0  [0.09792984002657285]"
      ]
     },
     "execution_count": 19,
     "metadata": {},
     "output_type": "execute_result"
    }
   ],
   "source": [
    "df.iloc[-3*4:,:]"
   ]
  },
  {
   "cell_type": "code",
   "execution_count": 8,
   "metadata": {},
   "outputs": [
    {
     "data": {
      "text/plain": [
       "0.43"
      ]
     },
     "execution_count": 8,
     "metadata": {},
     "output_type": "execute_result"
    }
   ],
   "source": [
    "round(prd([4,1]),2)"
   ]
  },
  {
   "cell_type": "code",
   "execution_count": 9,
   "metadata": {},
   "outputs": [
    {
     "data": {
      "text/plain": [
       "0.02"
      ]
     },
     "execution_count": 9,
     "metadata": {},
     "output_type": "execute_result"
    }
   ],
   "source": [
    "round(prd([0,0]), 2)"
   ]
  },
  {
   "cell_type": "code",
   "execution_count": 10,
   "metadata": {},
   "outputs": [
    {
     "data": {
      "text/plain": [
       "(0.4, 0.45, 0.47)"
      ]
     },
     "execution_count": 10,
     "metadata": {},
     "output_type": "execute_result"
    }
   ],
   "source": [
    "round(prd([1,3]), 2), round(prd([2,3]), 2), round(prd([6,1]), 2)"
   ]
  },
  {
   "cell_type": "code",
   "execution_count": 11,
   "metadata": {},
   "outputs": [
    {
     "name": "stdout",
     "output_type": "stream",
     "text": [
      "[0.0, 0.0] 0.242963477985384\n",
      "[0.25, 0.25] 0.42757843262200923\n",
      "[0.5, 0.5] 0.8634474017218605\n",
      "[0.75, 0.75] 1.4224477952221366\n",
      "[1.0, 1.0] 2.002362702400487\n",
      "[1.25, 1.25] 2.5829242887796444\n",
      "[1.5, 1.5] 3.1157485966444725\n",
      "[1.75, 1.75] 3.563550905854602\n",
      "[2.0, 2.0] 3.9129094878993294\n"
     ]
    },
    {
     "data": {
      "text/plain": [
       "Text(0.5, 1.0, 'predict')"
      ]
     },
     "execution_count": 11,
     "metadata": {},
     "output_type": "execute_result"
    },
    {
     "data": {
      "image/png": "[encoded data removed]",
      "text/plain": [
       "<Figure size 432x288 with 1 Axes>"
      ]
     },
     "metadata": {
      "needs_background": "light"
     },
     "output_type": "display_data"
    }
   ],
   "source": [
    "x = np.arange(0,2.25,0.25)\n",
    "f = x*2\n",
    "prd, df = online_perceptron([[xi,xi] for xi in x[::2]], f[::2]/10)\n",
    "\n",
    "f_prd = []\n",
    "for xi in zip(x,x):\n",
    "    f_prd.append(prd(list(xi)) * 10)\n",
    "    print(list(xi), f_prd[-1])    \n",
    "\n",
    "plt.plot(x, f)\n",
    "plt.plot(x, f_prd)\n",
    "plt.xlabel('x')\n",
    "plt.ylabel('2 * x')\n",
    "plt.title('predict')"
   ]
  },
  {
   "cell_type": "code",
   "execution_count": null,
   "metadata": {},
   "outputs": [],
   "source": []
  }
 ],
 "metadata": {
  "kernelspec": {
   "display_name": "Python 3",
   "language": "python",
   "name": "python3"
  },
  "language_info": {
   "codemirror_mode": {
    "name": "ipython",
    "version": 3
   },
   "file_extension": ".py",
   "mimetype": "text/x-python",
   "name": "python",
   "nbconvert_exporter": "python",
   "pygments_lexer": "ipython3",
   "version": "3.7.2"
  }
 },
 "nbformat": 4,
 "nbformat_minor": 2
}

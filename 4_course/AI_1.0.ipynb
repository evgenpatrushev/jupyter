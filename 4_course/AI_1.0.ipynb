{
 "cells": [
  {
   "cell_type": "markdown",
   "metadata": {},
   "source": [
    "# лабораторна робота по ИИ\n",
    "\n",
    "## 1) один нейрон"
   ]
  },
  {
   "cell_type": "code",
   "execution_count": 36,
   "metadata": {},
   "outputs": [],
   "source": [
    "import pandas as pd\n",
    "import numpy as npt \n",
    "import matplotlib.pyplot as plt\n",
    "from itertools import product"
   ]
  },
  {
   "cell_type": "code",
   "execution_count": 2,
   "metadata": {},
   "outputs": [],
   "source": [
    "def neuron(x=[7,4,5], y=0.3, delta_error=0.1):     \n",
    "    \n",
    "    if len(x)!=3:\n",
    "        print('error len of x')\n",
    "        return \n",
    "    if type(y) is not float and type(y) is not int:\n",
    "        print('error y type is uncorrect')\n",
    "        return \n",
    "    if type(delta_error) is not float and type(delta_error) is not int:\n",
    "        print('error delta_error type is uncorrect')\n",
    "        return \n",
    "    \n",
    "    \n",
    "    # initialization var\n",
    "    x = np.array([1] + x)\n",
    "    w = np.random.normal(loc=0.1, scale=0.05, size=(len(x), 1))\n",
    "    df = pd.DataFrame(columns=['w0', 'w1', 'w2', 'w3', 'y_predict', 'delta'])\n",
    "    \n",
    "    def predict(x_list):\n",
    "        x_list = np.array([1] + x_list)\n",
    "        s = np.dot(x_list, w)[0]\n",
    "        y = activization_function(s)\n",
    "        return y\n",
    "    \n",
    "    while True:\n",
    "        \n",
    "        s_m = np.dot(x, w)[0]\n",
    "        y_m = activization_function(s_m)\n",
    "        \n",
    "        delta = abs((y_m - y) / y)\n",
    "        df = df.append({'w0':w[0][0], 'w1':w[1][0], 'w2':w[2][0], 'w3':w[3][0], 'y_predict':y_m, 'delta': delta}, \n",
    "                       ignore_index=True)\n",
    "        \n",
    "        if delta <= delta_error: \n",
    "            return df, predict\n",
    "        \n",
    "        eta = y_m*(1-y_m)\n",
    "        delta_w = eta * (y - y_m) * x\n",
    "        w = w + delta_w.reshape(len(x), 1)\n",
    "        "
   ]
  },
  {
   "cell_type": "code",
   "execution_count": 3,
   "metadata": {},
   "outputs": [],
   "source": [
    "def activization_function(sum_x):\n",
    "    return 1/(1 + np.exp(-sum_x))"
   ]
  },
  {
   "cell_type": "code",
   "execution_count": 4,
   "metadata": {},
   "outputs": [
    {
     "data": {
      "text/html": [
       "<div>\n",
       "<style scoped>\n",
       "    .dataframe tbody tr th:only-of-type {\n",
       "        vertical-align: middle;\n",
       "    }\n",
       "\n",
       "    .dataframe tbody tr th {\n",
       "        vertical-align: top;\n",
       "    }\n",
       "\n",
       "    .dataframe thead th {\n",
       "        text-align: right;\n",
       "    }\n",
       "</style>\n",
       "<table border=\"1\" class=\"dataframe\">\n",
       "  <thead>\n",
       "    <tr style=\"text-align: right;\">\n",
       "      <th></th>\n",
       "      <th>w0</th>\n",
       "      <th>w1</th>\n",
       "      <th>w2</th>\n",
       "      <th>w3</th>\n",
       "      <th>y_predict</th>\n",
       "      <th>delta</th>\n",
       "    </tr>\n",
       "  </thead>\n",
       "  <tbody>\n",
       "    <tr>\n",
       "      <th>46</th>\n",
       "      <td>0.062987</td>\n",
       "      <td>-0.249310</td>\n",
       "      <td>-0.020074</td>\n",
       "      <td>-0.176052</td>\n",
       "      <td>0.066438</td>\n",
       "      <td>0.778540</td>\n",
       "    </tr>\n",
       "    <tr>\n",
       "      <th>47</th>\n",
       "      <td>0.077473</td>\n",
       "      <td>-0.147905</td>\n",
       "      <td>0.037871</td>\n",
       "      <td>-0.103620</td>\n",
       "      <td>0.210075</td>\n",
       "      <td>0.299750</td>\n",
       "    </tr>\n",
       "    <tr>\n",
       "      <th>48</th>\n",
       "      <td>0.092396</td>\n",
       "      <td>-0.043447</td>\n",
       "      <td>0.097561</td>\n",
       "      <td>-0.029008</td>\n",
       "      <td>0.508367</td>\n",
       "      <td>0.694556</td>\n",
       "    </tr>\n",
       "    <tr>\n",
       "      <th>49</th>\n",
       "      <td>0.040319</td>\n",
       "      <td>-0.407987</td>\n",
       "      <td>-0.110747</td>\n",
       "      <td>-0.289393</td>\n",
       "      <td>0.008964</td>\n",
       "      <td>0.970120</td>\n",
       "    </tr>\n",
       "    <tr>\n",
       "      <th>50</th>\n",
       "      <td>0.042904</td>\n",
       "      <td>-0.389889</td>\n",
       "      <td>-0.100406</td>\n",
       "      <td>-0.276466</td>\n",
       "      <td>0.011315</td>\n",
       "      <td>0.962284</td>\n",
       "    </tr>\n",
       "    <tr>\n",
       "      <th>51</th>\n",
       "      <td>0.046134</td>\n",
       "      <td>-0.367283</td>\n",
       "      <td>-0.087488</td>\n",
       "      <td>-0.260319</td>\n",
       "      <td>0.015122</td>\n",
       "      <td>0.949595</td>\n",
       "    </tr>\n",
       "    <tr>\n",
       "      <th>52</th>\n",
       "      <td>0.050376</td>\n",
       "      <td>-0.337585</td>\n",
       "      <td>-0.070517</td>\n",
       "      <td>-0.239106</td>\n",
       "      <td>0.022090</td>\n",
       "      <td>0.926368</td>\n",
       "    </tr>\n",
       "    <tr>\n",
       "      <th>53</th>\n",
       "      <td>0.056380</td>\n",
       "      <td>-0.295562</td>\n",
       "      <td>-0.046504</td>\n",
       "      <td>-0.209089</td>\n",
       "      <td>0.037543</td>\n",
       "      <td>0.874858</td>\n",
       "    </tr>\n",
       "    <tr>\n",
       "      <th>54</th>\n",
       "      <td>0.065863</td>\n",
       "      <td>-0.229178</td>\n",
       "      <td>-0.008570</td>\n",
       "      <td>-0.161672</td>\n",
       "      <td>0.084631</td>\n",
       "      <td>0.717896</td>\n",
       "    </tr>\n",
       "    <tr>\n",
       "      <th>55</th>\n",
       "      <td>0.082547</td>\n",
       "      <td>-0.112387</td>\n",
       "      <td>0.058167</td>\n",
       "      <td>-0.078250</td>\n",
       "      <td>0.296766</td>\n",
       "      <td>0.010780</td>\n",
       "    </tr>\n",
       "  </tbody>\n",
       "</table>\n",
       "</div>"
      ],
      "text/plain": [
       "          w0        w1        w2        w3  y_predict     delta\n",
       "46  0.062987 -0.249310 -0.020074 -0.176052   0.066438  0.778540\n",
       "47  0.077473 -0.147905  0.037871 -0.103620   0.210075  0.299750\n",
       "48  0.092396 -0.043447  0.097561 -0.029008   0.508367  0.694556\n",
       "49  0.040319 -0.407987 -0.110747 -0.289393   0.008964  0.970120\n",
       "50  0.042904 -0.389889 -0.100406 -0.276466   0.011315  0.962284\n",
       "51  0.046134 -0.367283 -0.087488 -0.260319   0.015122  0.949595\n",
       "52  0.050376 -0.337585 -0.070517 -0.239106   0.022090  0.926368\n",
       "53  0.056380 -0.295562 -0.046504 -0.209089   0.037543  0.874858\n",
       "54  0.065863 -0.229178 -0.008570 -0.161672   0.084631  0.717896\n",
       "55  0.082547 -0.112387  0.058167 -0.078250   0.296766  0.010780"
      ]
     },
     "execution_count": 4,
     "metadata": {},
     "output_type": "execute_result"
    }
   ],
   "source": [
    "df, prd = neuron()\n",
    "df[-10:]"
   ]
  },
  {
   "cell_type": "code",
   "execution_count": 5,
   "metadata": {},
   "outputs": [
    {
     "data": {
      "text/plain": [
       "0.29676599553424066"
      ]
     },
     "execution_count": 5,
     "metadata": {},
     "output_type": "execute_result"
    }
   ],
   "source": [
    "prd([7,4,5])"
   ]
  },
  {
   "cell_type": "markdown",
   "metadata": {},
   "source": [
    "## 2) Многослойный перцептрон, алгоритм обратного распространения ошибки 1\\*1\\*1"
   ]
  },
  {
   "cell_type": "code",
   "execution_count": 6,
   "metadata": {},
   "outputs": [],
   "source": [
    "def Multilayer_perceptron(x=7, y=0.3, delta_error=0.01):\n",
    "    if type(x) is not float and type(x) is not int:\n",
    "        print('error x type is uncorrect')\n",
    "        return \n",
    "    if type(y) is not float and type(y) is not int:\n",
    "        print('error y type is uncorrect')\n",
    "        return \n",
    "    if type(delta_error) is not float and type(delta_error) is not int:\n",
    "        print('error delta_error type is uncorrect')\n",
    "        return \n",
    "    \n",
    "    df = pd.DataFrame(columns=['delta', 'y_pr'])\n",
    "    w12, w23 = np.random.normal(loc=0.1, scale=0.05, size=2)\n",
    "    \n",
    "    def predict(x_pr):\n",
    "        x_s1 = x_pr * w12\n",
    "        y = activization_function(x_s1)\n",
    "        \n",
    "        x_s2 = y * w23\n",
    "        return activization_function(x_s2)\n",
    "    \n",
    "    while True:\n",
    "        x_sum1 = x * w12\n",
    "        y2 = activization_function(x_sum1)\n",
    "        \n",
    "        x_sum2 = y2 * w23\n",
    "        y3 = activization_function(x_sum2)\n",
    "        \n",
    "        delta = abs((y3 - y) / y)\n",
    "    \n",
    "        df = df.append({'delta':delta, 'y_pr':y3}, ignore_index=True)\n",
    "        \n",
    "        if delta <= delta_error:\n",
    "            return df, predict\n",
    "        \n",
    "        sigma_3 = y3 * (1-y3) * (y - y3)\n",
    "        delta_w23 = y2 * sigma_3\n",
    "        \n",
    "        sigma_2 = y2 * (1-y2) * (sigma_3 * w23)\n",
    "        delta_w12 = x * sigma_2\n",
    "        \n",
    "        w12 += delta_w12\n",
    "        w23 += delta_w23\n",
    "        "
   ]
  },
  {
   "cell_type": "code",
   "execution_count": 7,
   "metadata": {},
   "outputs": [
    {
     "data": {
      "text/html": [
       "<div>\n",
       "<style scoped>\n",
       "    .dataframe tbody tr th:only-of-type {\n",
       "        vertical-align: middle;\n",
       "    }\n",
       "\n",
       "    .dataframe tbody tr th {\n",
       "        vertical-align: top;\n",
       "    }\n",
       "\n",
       "    .dataframe thead th {\n",
       "        text-align: right;\n",
       "    }\n",
       "</style>\n",
       "<table border=\"1\" class=\"dataframe\">\n",
       "  <thead>\n",
       "    <tr style=\"text-align: right;\">\n",
       "      <th></th>\n",
       "      <th>delta</th>\n",
       "      <th>y_pr</th>\n",
       "    </tr>\n",
       "  </thead>\n",
       "  <tbody>\n",
       "    <tr>\n",
       "      <th>87</th>\n",
       "      <td>0.014627</td>\n",
       "      <td>0.304388</td>\n",
       "    </tr>\n",
       "    <tr>\n",
       "      <th>88</th>\n",
       "      <td>0.013977</td>\n",
       "      <td>0.304193</td>\n",
       "    </tr>\n",
       "    <tr>\n",
       "      <th>89</th>\n",
       "      <td>0.013355</td>\n",
       "      <td>0.304007</td>\n",
       "    </tr>\n",
       "    <tr>\n",
       "      <th>90</th>\n",
       "      <td>0.012762</td>\n",
       "      <td>0.303829</td>\n",
       "    </tr>\n",
       "    <tr>\n",
       "      <th>91</th>\n",
       "      <td>0.012195</td>\n",
       "      <td>0.303659</td>\n",
       "    </tr>\n",
       "    <tr>\n",
       "      <th>92</th>\n",
       "      <td>0.011654</td>\n",
       "      <td>0.303496</td>\n",
       "    </tr>\n",
       "    <tr>\n",
       "      <th>93</th>\n",
       "      <td>0.011138</td>\n",
       "      <td>0.303341</td>\n",
       "    </tr>\n",
       "    <tr>\n",
       "      <th>94</th>\n",
       "      <td>0.010644</td>\n",
       "      <td>0.303193</td>\n",
       "    </tr>\n",
       "    <tr>\n",
       "      <th>95</th>\n",
       "      <td>0.010172</td>\n",
       "      <td>0.303052</td>\n",
       "    </tr>\n",
       "    <tr>\n",
       "      <th>96</th>\n",
       "      <td>0.009722</td>\n",
       "      <td>0.302917</td>\n",
       "    </tr>\n",
       "  </tbody>\n",
       "</table>\n",
       "</div>"
      ],
      "text/plain": [
       "       delta      y_pr\n",
       "87  0.014627  0.304388\n",
       "88  0.013977  0.304193\n",
       "89  0.013355  0.304007\n",
       "90  0.012762  0.303829\n",
       "91  0.012195  0.303659\n",
       "92  0.011654  0.303496\n",
       "93  0.011138  0.303341\n",
       "94  0.010644  0.303193\n",
       "95  0.010172  0.303052\n",
       "96  0.009722  0.302917"
      ]
     },
     "execution_count": 7,
     "metadata": {},
     "output_type": "execute_result"
    }
   ],
   "source": [
    "df, prd = Multilayer_perceptron()\n",
    "df[-10:]"
   ]
  },
  {
   "cell_type": "code",
   "execution_count": 8,
   "metadata": {},
   "outputs": [
    {
     "data": {
      "text/plain": [
       "0.3043116956116643"
      ]
     },
     "execution_count": 8,
     "metadata": {},
     "output_type": "execute_result"
    }
   ],
   "source": [
    "prd(6.66)"
   ]
  },
  {
   "cell_type": "markdown",
   "metadata": {},
   "source": [
    "## 2) многослойный песептрон с одним скрытым слоем"
   ]
  },
  {
   "cell_type": "code",
   "execution_count": 9,
   "metadata": {},
   "outputs": [],
   "source": [
    "def Multilayer_perceptron_2(x=[2,4,7,3], y=0.3, hidden_layer=40, w1=[], w2=[]):\n",
    "\n",
    "    x = [1] + list(x)\n",
    "    y_hidden = np.array([1] + list(activization_function(np.dot(x, w1))))\n",
    "    y_predict = activization_function(np.dot(y_hidden, w2))\n",
    "\n",
    "    d_exit = (y - y_predict)\n",
    "    delta_exit = y_predict * (1 - y_predict) * d_exit\n",
    "    delta_hidden = y_hidden * (1 - y_hidden) * (d_exit * w2.reshape(hidden_layer + 1))\n",
    "    \n",
    "    for i in range(len(x)):\n",
    "        w1[i,:] += x[i] * delta_hidden[1:]\n",
    "    \n",
    "    w2 += y_hidden.reshape(hidden_layer+1, 1) * delta_exit\n",
    "\n",
    "    return w1, w2\n",
    "        \n",
    "        "
   ]
  },
  {
   "cell_type": "code",
   "execution_count": 29,
   "metadata": {},
   "outputs": [],
   "source": [
    "def online_perceptron(x_list=[[0,0],[1,2],[1,1],[2,1],[2,2],[3,0],[1,0]], \n",
    "                      y_list=[0.0, 0.3, 0.2, 0.3, 0.4, 0.3, 0.1], \n",
    "                     count_iter=10000):\n",
    "    \n",
    "    hidden_layer = 3\n",
    "    exit_layer = 1\n",
    "\n",
    "    w1 = np.random.normal(loc=0.1, scale=0.05, size=(len(x_list[0]) + 1, hidden_layer))\n",
    "    w2 = np.random.normal(loc=0.1, scale=0.05, size=(hidden_layer + 1, exit_layer))\n",
    "\n",
    "\n",
    "    def predict(x_pr):\n",
    "        y_h = np.array([1] + list(activization_function(np.dot([1] + x_pr, w1))))\n",
    "        return activization_function(np.dot(y_h, w2))[0]\n",
    "    \n",
    "    for i in range(count_iter):\n",
    "        for x, y in zip(x_list, y_list):\n",
    "            x = list(x)\n",
    "            w1, w2 = Multilayer_perceptron_2(x=x, y=y, w1=w1, w2=w2, hidden_layer=hidden_layer)\n",
    "            \n",
    "    return predict"
   ]
  },
  {
   "cell_type": "markdown",
   "metadata": {},
   "source": [
    "# debug \n",
    "\n",
    "\n",
    "\n"
   ]
  },
  {
   "cell_type": "code",
   "execution_count": 30,
   "metadata": {},
   "outputs": [
    {
     "data": {
      "text/plain": [
       "(0.1, 0.3, 0.3)"
      ]
     },
     "execution_count": 30,
     "metadata": {},
     "output_type": "execute_result"
    }
   ],
   "source": [
    "prd = online_perceptron()\n",
    "round(prd([1,0]),1), round(prd([2,1]),2), round(prd([3,0]),1)"
   ]
  },
  {
   "cell_type": "code",
   "execution_count": 31,
   "metadata": {},
   "outputs": [
    {
     "data": {
      "text/plain": [
       "0.45"
      ]
     },
     "execution_count": 31,
     "metadata": {},
     "output_type": "execute_result"
    }
   ],
   "source": [
    "round(prd([4,1]),2)"
   ]
  },
  {
   "cell_type": "code",
   "execution_count": 32,
   "metadata": {},
   "outputs": [
    {
     "data": {
      "text/plain": [
       "0.01"
      ]
     },
     "execution_count": 32,
     "metadata": {},
     "output_type": "execute_result"
    }
   ],
   "source": [
    "round(prd([0,0]), 2)"
   ]
  },
  {
   "cell_type": "code",
   "execution_count": 38,
   "metadata": {},
   "outputs": [
    {
     "data": {
      "text/plain": [
       "(0.4, 0.45, 0.47)"
      ]
     },
     "execution_count": 38,
     "metadata": {},
     "output_type": "execute_result"
    }
   ],
   "source": [
    "round(prd([1,3]), 2), round(prd([2,3]), 2), round(prd([6,1]), 2)"
   ]
  },
  {
   "cell_type": "code",
   "execution_count": 55,
   "metadata": {},
   "outputs": [
    {
     "name": "stdout",
     "output_type": "stream",
     "text": [
      "[0.0, 0.0] 0.06262422333739703\n",
      "[0.25, 0.25] 0.14722215296569377\n",
      "[0.5, 0.5] 0.9920602888960794\n",
      "[0.75, 0.75] 1.6951136260526691\n",
      "[1.0, 1.0] 2.0024277929730516\n",
      "[1.25, 1.25] 2.4226469984868113\n",
      "[1.5, 1.5] 2.998116882844166\n",
      "[1.75, 1.75] 3.5772184290792537\n",
      "[2.0, 2.0] 4.001521837791286\n"
     ]
    },
    {
     "data": {
      "text/plain": [
       "Text(0.5, 1.0, 'predict')"
      ]
     },
     "execution_count": 55,
     "metadata": {},
     "output_type": "execute_result"
    },
    {
     "data": {
      "image/png": "[encoded data removed]",
      "text/plain": [
       "<Figure size 432x288 with 1 Axes>"
      ]
     },
     "metadata": {
      "needs_background": "light"
     },
     "output_type": "display_data"
    }
   ],
   "source": [
    "x = np.arange(0,2.25,0.25)\n",
    "f = x*2\n",
    "prd = online_perceptron([[xi,xi] for xi in x[::2]], f[::2]/10)\n",
    "\n",
    "f_prd = []\n",
    "for xi in zip(x,x):\n",
    "    f_prd.append(prd(list(xi)) * 10)\n",
    "    print(list(xi), f_prd[-1])    \n",
    "\n",
    "plt.plot(x, f)\n",
    "plt.plot(x, f_prd)\n",
    "plt.xlabel('x')\n",
    "plt.ylabel('2 * x')\n",
    "plt.title('predict')"
   ]
  },
  {
   "cell_type": "code",
   "execution_count": null,
   "metadata": {},
   "outputs": [],
   "source": []
  }
 ],
 "metadata": {
  "kernelspec": {
   "display_name": "Python 3",
   "language": "python",
   "name": "python3"
  },
  "language_info": {
   "codemirror_mode": {
    "name": "ipython",
    "version": 3
   },
   "file_extension": ".py",
   "mimetype": "text/x-python",
   "name": "python",
   "nbconvert_exporter": "python",
   "pygments_lexer": "ipython3",
   "version": "3.7.2"
  }
 },
 "nbformat": 4,
 "nbformat_minor": 2
}

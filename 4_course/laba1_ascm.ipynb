{
 "cells": [
  {
   "cell_type": "markdown",
   "metadata": {},
   "source": [
    "# Лабораторна робота № 1 СЛАР: \n",
    "\n",
    "## 7– Метод оберної матриці"
   ]
  },
  {
   "cell_type": "code",
   "execution_count": 1,
   "metadata": {},
   "outputs": [],
   "source": [
    "import numpy as np\n",
    "import pandas as pd"
   ]
  },
  {
   "cell_type": "markdown",
   "metadata": {},
   "source": [
    "## v8\n",
    "\n",
    "2*x1 - x2 + x3 + 2*x4 = 5\n",
    "\n",
    "x1 + 2*x2 +2*x3 - x4 = 3\n",
    "\n",
    "2*x1 - 3*x2 + 2*x3 - 2*x4 = 2\n",
    "\n",
    "3*x1 + 3*x2 - 2*x3 + 4*x4 = 5\n",
    "\n",
    "\n",
    "### 1) download data from csv"
   ]
  },
  {
   "cell_type": "code",
   "execution_count": 6,
   "metadata": {},
   "outputs": [],
   "source": [
    "data = pd.read_csv('system.csv')"
   ]
  },
  {
   "cell_type": "markdown",
   "metadata": {},
   "source": [
    "### 2) create function for check the download data for uncorrect data"
   ]
  },
  {
   "cell_type": "code",
   "execution_count": 3,
   "metadata": {},
   "outputs": [],
   "source": [
    "def check_data(data_pd): \n",
    "    \n",
    "    if len(data_pd.columns)-1 != len(data_pd.index):\n",
    "        print('uncorrect count of colunms and rows')\n",
    "        return 0\n",
    "    \n",
    "    for column in data_pd.columns:\n",
    "        if data_pd[column].dtype != np.float64 and data_pd[column].dtype != np.int64:\n",
    "            print('uncorrect data type({}) of column \"{}\"'.format(data_pd[column].dtype, column))\n",
    "            return 0\n",
    "        \n",
    "    if pd.isna(data_pd).values.any():\n",
    "        print('uncorrect data value of df is NaN')\n",
    "        return 0\n",
    "    \n",
    "    if (data_pd > 9999).values.any():\n",
    "        print('uncorrect data value of df more then 9999')\n",
    "        return 0\n",
    "    \n",
    "    return 1"
   ]
  },
  {
   "cell_type": "markdown",
   "metadata": {},
   "source": [
    "### 3) create method function "
   ]
  },
  {
   "cell_type": "code",
   "execution_count": 11,
   "metadata": {},
   "outputs": [],
   "source": [
    "def method(data_pd):\n",
    "    \n",
    "    # check uncorrect situations\n",
    "    A = data_pd.iloc[:, :-1]\n",
    "    y = data_pd.iloc[:, -1]\n",
    "\n",
    "    if A.shape[0] != A.shape[1]:\n",
    "        print('error, shape of x should be quadratic')\n",
    "        return 0\n",
    "\n",
    "    det = np.linalg.det(A)\n",
    "    if det == 0:\n",
    "        print('error, det shuld be not 0')\n",
    "        return 0\n",
    "    \n",
    "    print(\"A = \\n\", A)\n",
    "    inv_A = np.linalg.inv(A)\n",
    "    print(\"inverse A = \\n\", inv_A)\n",
    "    x = np.dot(inv_A, y)\n",
    "    \n",
    "    return x\n"
   ]
  },
  {
   "cell_type": "markdown",
   "metadata": {},
   "source": [
    "### 4) run check and method functions and print answer"
   ]
  },
  {
   "cell_type": "code",
   "execution_count": 12,
   "metadata": {},
   "outputs": [
    {
     "name": "stdout",
     "output_type": "stream",
     "text": [
      "A = \n",
      "    x1  x2  x3  x4\n",
      "0   2  -1   1   2\n",
      "1   1   2   3  -1\n",
      "2   2  -3   2  -2\n",
      "3   3   3  -2   4\n",
      "inverse A = \n",
      " [[-0.16774194  0.01290323  0.30322581  0.23870968]\n",
      " [-0.18064516  0.16774194 -0.05806452  0.10322581]\n",
      " [ 0.31612903  0.20645161 -0.1483871  -0.18064516]\n",
      " [ 0.41935484 -0.03225806 -0.25806452 -0.09677419]]\n",
      "answer is: \n",
      "x1 = 0.9999999999999999; \n",
      "x2 = 0.0; \n",
      "x3 = 1.0000000000000004; \n",
      "x4 = 0.9999999999999998; \n",
      "\n"
     ]
    }
   ],
   "source": [
    "if check_data(data):\n",
    "    answer = method(data)\n",
    "    if type(answer) is not int:\n",
    "        answer_str = \" = {}; \\n\".join(data.columns)[:-1]\n",
    "        print('answer is: \\n' + answer_str.format(*answer))"
   ]
  },
  {
   "cell_type": "markdown",
   "metadata": {},
   "source": [
    "### 5) analize difference between my answer and insert fucntion answer"
   ]
  },
  {
   "cell_type": "code",
   "execution_count": 10,
   "metadata": {},
   "outputs": [
    {
     "name": "stdout",
     "output_type": "stream",
     "text": [
      "numpy predict is: \n",
      "x1 = 1.0000000000000002; \n",
      "x2 = -0.0; \n",
      "x3 = 0.9999999999999998; \n",
      "x4 = 0.9999999999999998; \n",
      "\n",
      "difference:\n",
      "|my_x - x_pr| = 3.3306690738754696e-16\n",
      "|my_x - x_pr| = 0.0\n",
      "|my_x - x_pr| = 6.661338147750939e-16\n",
      "|my_x - x_pr| = 0.0\n"
     ]
    }
   ],
   "source": [
    "np_pr = np.linalg.solve(data.iloc[:, :-1], data.iloc[:, -1])\n",
    "print('numpy predict is: \\n' + answer_str.format(*np_pr))\n",
    "\n",
    "print('difference:')\n",
    "for x_1, x_2 in zip(answer, np_pr):\n",
    "    print('|my_x - x_pr| =', abs(x_1 - x_2))"
   ]
  },
  {
   "cell_type": "code",
   "execution_count": null,
   "metadata": {},
   "outputs": [],
   "source": []
  }
 ],
 "metadata": {
  "kernelspec": {
   "display_name": "Python 3",
   "language": "python",
   "name": "python3"
  },
  "language_info": {
   "codemirror_mode": {
    "name": "ipython",
    "version": 3
   },
   "file_extension": ".py",
   "mimetype": "text/x-python",
   "name": "python",
   "nbconvert_exporter": "python",
   "pygments_lexer": "ipython3",
   "version": "3.7.2"
  }
 },
 "nbformat": 4,
 "nbformat_minor": 2
}

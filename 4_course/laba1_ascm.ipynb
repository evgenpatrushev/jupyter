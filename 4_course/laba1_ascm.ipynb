{
 "cells": [
  {
   "cell_type": "markdown",
   "metadata": {},
   "source": [
    "# Лабораторная работа № 1 СЛАУ: \n",
    "\n",
    "## 7– Метод обратной матрицы"
   ]
  },
  {
   "cell_type": "code",
   "execution_count": 1,
   "metadata": {},
   "outputs": [],
   "source": [
    "import numpy as np\n",
    "import pandas as pd"
   ]
  },
  {
   "cell_type": "markdown",
   "metadata": {},
   "source": [
    "## v8\n",
    "\n",
    "2*x1 - x2 + x3 + 2*x4 = 5\n",
    "\n",
    "x1 + 2*x2 +2*x3 - x4 = 3\n",
    "\n",
    "2*x1 - 3*x2 + 2*x3 - 2*x4 = 2\n",
    "\n",
    "3*x1 + 3*x2 - 2*x3 + 4*x4 = 5\n",
    "\n",
    "\n",
    "### 1) download data from csv"
   ]
  },
  {
   "cell_type": "code",
   "execution_count": 2,
   "metadata": {},
   "outputs": [],
   "source": [
    "data = pd.read_csv('system.csv')"
   ]
  },
  {
   "cell_type": "markdown",
   "metadata": {},
   "source": [
    "### 2) create function for check the download data for uncorrect data"
   ]
  },
  {
   "cell_type": "code",
   "execution_count": 3,
   "metadata": {},
   "outputs": [],
   "source": [
    "def check_data(data_pd): \n",
    "    \n",
    "    for column in data_pd.columns:\n",
    "        if data_pd[column].dtype != np.float64 and data_pd[column].dtype != np.int64:\n",
    "            print('uncorrect data type({}) of column \"{}\"'.format(data_pd[column].dtype, data_pd[column]))\n",
    "            return 0\n",
    "    return 1"
   ]
  },
  {
   "cell_type": "markdown",
   "metadata": {},
   "source": [
    "### 3) create method function "
   ]
  },
  {
   "cell_type": "code",
   "execution_count": 4,
   "metadata": {},
   "outputs": [],
   "source": [
    "def method(data_pd):\n",
    "    \n",
    "    # check uncorrect situations\n",
    "    A = data_pd.iloc[:, :-1]\n",
    "    y = data_pd.iloc[:, -1]\n",
    "\n",
    "    if A.shape[0] != A.shape[1]:\n",
    "        print('error, shape of x should be quadratic')\n",
    "        return 0\n",
    "\n",
    "    det = np.linalg.det(A)\n",
    "    if det == 0:\n",
    "        print('error, det shuld be not 0')\n",
    "        return 0\n",
    "    \n",
    "    inv_A = np.linalg.inv(A)\n",
    "    x = np.dot(inv_A, y)\n",
    "    \n",
    "    return x\n"
   ]
  },
  {
   "cell_type": "markdown",
   "metadata": {},
   "source": [
    "### 4) run check and method functions and print answer"
   ]
  },
  {
   "cell_type": "code",
   "execution_count": 7,
   "metadata": {},
   "outputs": [
    {
     "name": "stdout",
     "output_type": "stream",
     "text": [
      "answer is: \n",
      "x1 = 1.0162601626016259; \n",
      "x2 = 0.2113821138211381; \n",
      "x3 = 1.2601626016260163; \n",
      "x4 = 0.9593495934959348; \n",
      "\n"
     ]
    }
   ],
   "source": [
    "if check_data(data):\n",
    "    answer = method(data)\n",
    "    if type(answer) is not int:\n",
    "        answer_str = \" = {}; \\n\".join(data.columns)[:-1]\n",
    "        print('answer is: \\n' + answer_str.format(*answer))"
   ]
  },
  {
   "cell_type": "markdown",
   "metadata": {},
   "source": [
    "### 5) analize difference between my answer and insert fucntion answer"
   ]
  },
  {
   "cell_type": "code",
   "execution_count": 9,
   "metadata": {},
   "outputs": [
    {
     "name": "stdout",
     "output_type": "stream",
     "text": [
      "numpy predict is: \n",
      "x1 = 1.016260162601626; \n",
      "x2 = 0.21138211382113817; \n",
      "x3 = 1.2601626016260163; \n",
      "x4 = 0.9593495934959351; \n",
      "\n",
      "difference:\n",
      "|my_x - x_pr| = 2.220446049250313e-16\n",
      "|my_x - x_pr| = 5.551115123125783e-17\n",
      "|my_x - x_pr| = 0.0\n",
      "|my_x - x_pr| = 2.220446049250313e-16\n"
     ]
    }
   ],
   "source": [
    "np_pr = np.linalg.solve(data.iloc[:, :-1], data.iloc[:, -1])\n",
    "print('numpy predict is: \\n' + answer_str.format(*np_pr))\n",
    "\n",
    "print('difference:')\n",
    "for x_1, x_2 in zip(answer, np_pr):\n",
    "    print('|my_x - x_pr| =', abs(x_1 - x_2))"
   ]
  }
 ],
 "metadata": {
  "kernelspec": {
   "display_name": "Python 3",
   "language": "python",
   "name": "python3"
  },
  "language_info": {
   "codemirror_mode": {
    "name": "ipython",
    "version": 3
   },
   "file_extension": ".py",
   "mimetype": "text/x-python",
   "name": "python",
   "nbconvert_exporter": "python",
   "pygments_lexer": "ipython3",
   "version": "3.7.2"
  }
 },
 "nbformat": 4,
 "nbformat_minor": 2
}

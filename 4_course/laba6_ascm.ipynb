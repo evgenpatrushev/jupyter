{
 "cells": [
  {
   "cell_type": "code",
   "execution_count": 2,
   "metadata": {},
   "outputs": [],
   "source": [
    "import numpy as np"
   ]
  },
  {
   "cell_type": "code",
   "execution_count": 3,
   "metadata": {},
   "outputs": [],
   "source": [
    "def calculate_potential(m):\n",
    "    u, v = np.empty(m.shape[0]), np.empty(m.shape[1])\n",
    "    u[:] = np.nan\n",
    "    u[0] = 0\n",
    "    v[:] = np.nan\n",
    "    # calculate\n",
    "    while np.isnan(u).any() or np.isnan(v).any():\n",
    "        for i, u_i in enumerate(u):\n",
    "            if not np.isnan(u_i):\n",
    "                for j, c in enumerate(m[i, :]):\n",
    "                    if c != 0 and np.isnan(v[j]):\n",
    "                        v[j] = c - u_i\n",
    "                        for k, row_element in enumerate(m[:, j]):\n",
    "                            if k != i and row_element != 0 and np.isnan(u[k]):\n",
    "                                u[k] = row_element - v[j]\n",
    "    return u, v\n"
   ]
  },
  {
   "cell_type": "code",
   "execution_count": 4,
   "metadata": {},
   "outputs": [],
   "source": [
    "def search_way(x, start, cur, direct='H', start_b=True):\n",
    "    if direct=='W' and start[1] == cur[1] and start_b is not True:\n",
    "        return [cur]\n",
    "    if direct == 'H':\n",
    "        row = np.where(x[cur[0], :] > 0)[0]\n",
    "        if row.size == 0:\n",
    "            return None\n",
    "        for index_c in row:\n",
    "            if index_c == cur[1]:\n",
    "                continue\n",
    "            return_v = search_way(x, start, [cur[0], index_c], 'W', False)\n",
    "            if type(return_v) is list:\n",
    "                return_v.append(cur)\n",
    "                return return_v\n",
    "\n",
    "        return None\n",
    "\n",
    "    elif direct == 'W':\n",
    "        col = np.where(x[:, cur[1]] > 0)[0]\n",
    "        if col.size == 0:\n",
    "            return None\n",
    "        for index_r in col:\n",
    "            if index_r == cur[0]:\n",
    "                continue\n",
    "            return_v = search_way(x, start, [index_r, cur[1]], 'H', False)\n",
    "            if type(return_v) is list:\n",
    "                return_v.append(cur)\n",
    "                return return_v\n",
    "\n",
    "        return None\n"
   ]
  },
  {
   "cell_type": "code",
   "execution_count": 27,
   "metadata": {},
   "outputs": [],
   "source": [
    "def transport_task(user_in=False):\n",
    "    if user_in:\n",
    "        pass\n",
    "    else:\n",
    "        c = np.array([[29, 4, 7, 6, 16], [21, 13, 25, 21, 7], [20, 10, 12, 6, 2], [17, 7, 4, 6, 19]])\n",
    "        a = np.array([14, 14, 14, 18])\n",
    "        b = np.array([12, 12, 12, 12, 12])\n",
    "\n",
    "        #c = np.array([[10, 17, 9, 20, 30], [13, 4, 24, 26, 26], [22, 24, 30, 27, 29], [8, 26, 7, 28, 9]])\n",
    "        #a = np.array([15, 15, 19, 11])\n",
    "        #b = np.array([9, 24, 9, 9, 9])\n",
    "    x = np.zeros(c.shape)\n",
    "\n",
    "    # опорный план метод северо запада\n",
    "    j = 0\n",
    "    for i in range(len(a)):\n",
    "        while True:\n",
    "            if a[i] > b[j]:\n",
    "                x[i, j] = b[j]\n",
    "                a[i] -= b[j]\n",
    "                j += 1\n",
    "            elif a[i] < b[j]:\n",
    "                x[i, j] = a[i]\n",
    "                b[j] -= a[i]\n",
    "                break\n",
    "            elif a[i] == b[j]:\n",
    "                x[i, j] = a[i]\n",
    "                j += 1\n",
    "                break\n",
    "    # потенциалы\n",
    "    while True:\n",
    "        u, v = calculate_potential(np.where(x, c, 0))\n",
    "        temp_var = u[:, np.newaxis] + v - c\n",
    "        m = np.max(temp_var[temp_var >= 0])\n",
    "        if m == 0:\n",
    "            break\n",
    "        start = [i[0] for i in np.where(temp_var == m)]\n",
    "        coords = search_way(x, start, start)\n",
    "        coords = list(reversed(coords))\n",
    "        temp_var = []\n",
    "        for coord in coords:\n",
    "            temp_var.append(x[coord[0], coord[1]])\n",
    "        change = min(temp_var[1::2])\n",
    "        temp_var[1::2] -= change\n",
    "        temp_var[::2] += change\n",
    "        for i in range(len(temp_var)):\n",
    "            x[coords[i][0], coords[i][1]] = temp_var[i]\n",
    "    return x, np.sum(x*c)\n"
   ]
  },
  {
   "cell_type": "code",
   "execution_count": 22,
   "metadata": {},
   "outputs": [],
   "source": [
    "def user_input():\n",
    "    try:\n",
    "        a_c = int(input('количество пунктов отправления: '))\n",
    "        check(a_c, 100, 'слишком большое пунктов отправления', 2, \n",
    "              'слишком мальнькое количество пунктов отправления')\n",
    "        b_c = int(input('количество пунктов назначения: '))\n",
    "        check(b_c, 100, 'слишком большое количество пунктов назначения', 2, \n",
    "              'слишком маленькое количество пунктов назначения')\n",
    "        a, b = [], []\n",
    "        c = []\n",
    "        for i in range(a_c):\n",
    "            a_i = int(input(f'единиц груза в пункте отправления №{i+1}: '))\n",
    "            check(a_i, 100, f'слишком больое количество груза в пункте отправления  №{i+1}', 1, \n",
    "                  f'слишком маленькое количество груза в пункте отправлени №{i+1}')         \n",
    "            a.append(a_i)\n",
    "            c_i = []\n",
    "            for j in range(b_c):\n",
    "                c_i_j = int(input(f'стоимость перевозки из пункта №{i+1} в пункт №{j+1}: '))\n",
    "                check(c_i_j, 100, f'слишком большая стоимость перевозки ', 1,\n",
    "                      f'слишком маленькая стоимость перевозки')\n",
    "                c_i.append(c_i_j)\n",
    "            c.append(c_i)\n",
    "        print('необходимое количество груза в ...')\n",
    "        for i in range(b_c):\n",
    "            b_i = int(input(f'... пунктке назначения №{i+1}: '))\n",
    "            check(b_i, 100, f'слишком большое значение в пункте назначения №{i+1}', 1,\n",
    "                      f'слишком маленькое значение в пункте назначения №{i+1}')\n",
    "            b.append(b_i)\n",
    "        if sum(a) != sum(b):\n",
    "            raise Exception('не выполняеться необходимое и достаточное условие разрешимости задачи\\n sum(a) != sum(b)')\n",
    "        \n",
    "        return np.array(c), np.array(a), np.array(b)\n",
    "    \n",
    "    except ValueError:\n",
    "        print('error = тип не совпадает с нужным')\n",
    "    except Exception as e:\n",
    "        print('error =', e)\n",
    "    finally:\n",
    "        answer = int(input('повторить ввод? 1 - yes; 0 - no: \\n'))\n",
    "        if answer:\n",
    "            print('\\n------------------------------------------------------------\\n')\n",
    "            return user_input()"
   ]
  },
  {
   "cell_type": "code",
   "execution_count": 23,
   "metadata": {},
   "outputs": [],
   "source": [
    "def check(v, max_v, max_err_m, min_v, min_err_m):\n",
    "    \n",
    "    if v > max_v:\n",
    "        raise Exception(max_err_m)\n",
    "    if v < min_v:\n",
    "        raise Exception(min_err_m)\n"
   ]
  },
  {
   "cell_type": "code",
   "execution_count": 24,
   "metadata": {},
   "outputs": [
    {
     "name": "stdout",
     "output_type": "stream",
     "text": [
      "количество пунктов отправления: 2\n",
      "количество пунктов назначения: 2\n",
      "единиц груза в пункте отправления №1: 3\n",
      "стоимость перевозки из пункта №1 в пункт №1: 1\n",
      "стоимость перевозки из пункта №1 в пункт №2: 1\n",
      "единиц груза в пункте отправления №2: 3\n",
      "стоимость перевозки из пункта №2 в пункт №1: 1\n",
      "стоимость перевозки из пункта №2 в пункт №2: 1\n",
      "необходимое количество груза в ...\n",
      "... пунктке назначения №1: 2\n",
      "... пунктке назначения №2: 2\n",
      "error = не выполняеться необходимое и достаточное условие разрешимости задачи\n",
      " sum(a) != sum(b)\n",
      "повторить ввод? 1 - yes; 0 - no: \n",
      "1\n",
      "\n",
      "------------------------------------------------------------\n",
      "\n",
      "количество пунктов отправления: -1\n",
      "error = слишком мальнькое количество пунктов отправления\n",
      "повторить ввод? 1 - yes; 0 - no: \n",
      "1\n",
      "\n",
      "------------------------------------------------------------\n",
      "\n",
      "количество пунктов отправления: a\n",
      "error = тип не совпадает с нужным\n",
      "повторить ввод? 1 - yes; 0 - no: \n",
      "1\n",
      "\n",
      "------------------------------------------------------------\n",
      "\n",
      "количество пунктов отправления: 2\n",
      "количество пунктов назначения: 2\n",
      "единиц груза в пункте отправления №1: 2\n",
      "стоимость перевозки из пункта №1 в пункт №1: 1\n",
      "стоимость перевозки из пункта №1 в пункт №2: 1\n",
      "единиц груза в пункте отправления №2: 3\n",
      "стоимость перевозки из пункта №2 в пункт №1: 2\n",
      "стоимость перевозки из пункта №2 в пункт №2: 2\n",
      "необходимое количество груза в ...\n",
      "... пунктке назначения №1: 4\n",
      "... пунктке назначения №2: 1\n",
      "повторить ввод? 1 - yes; 0 - no: \n",
      "0\n"
     ]
    },
    {
     "data": {
      "text/plain": [
       "(array([[1, 1],\n",
       "        [2, 2]]), array([2, 3]), array([4, 1]))"
      ]
     },
     "execution_count": 24,
     "metadata": {},
     "output_type": "execute_result"
    }
   ],
   "source": [
    "user_input()"
   ]
  },
  {
   "cell_type": "code",
   "execution_count": 31,
   "metadata": {},
   "outputs": [
    {
     "name": "stdout",
     "output_type": "stream",
     "text": [
      "минимальные затраты F = 454.0,\n",
      "массив пути доставки = \n",
      "[[ 0. 12.  0.  2.  0.]\n",
      " [12.  0.  0.  0.  2.]\n",
      " [ 0.  0.  0.  4. 10.]\n",
      " [ 0.  0. 12.  6.  0.]]\n"
     ]
    }
   ],
   "source": [
    "x, f = transport_task()\n",
    "print(f'минимальные затраты F = {f},\\nмассив пути доставки = \\n{x}')"
   ]
  },
  {
   "cell_type": "code",
   "execution_count": null,
   "metadata": {},
   "outputs": [],
   "source": []
  }
 ],
 "metadata": {
  "kernelspec": {
   "display_name": "Python 3",
   "language": "python",
   "name": "python3"
  },
  "language_info": {
   "codemirror_mode": {
    "name": "ipython",
    "version": 3
   },
   "file_extension": ".py",
   "mimetype": "text/x-python",
   "name": "python",
   "nbconvert_exporter": "python",
   "pygments_lexer": "ipython3",
   "version": "3.8.0"
  }
 },
 "nbformat": 4,
 "nbformat_minor": 2
}

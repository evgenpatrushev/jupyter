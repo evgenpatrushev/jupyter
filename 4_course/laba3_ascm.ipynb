{
 "cells": [
  {
   "cell_type": "markdown",
   "metadata": {},
   "source": [
    "# Лабораторна робота  № 3 Диференціювання:\n",
    "\n",
    "## 3 - Метод Рунге-Кутта"
   ]
  },
  {
   "cell_type": "code",
   "execution_count": 7,
   "metadata": {},
   "outputs": [],
   "source": [
    "import numpy as np\n",
    "import matplotlib.pyplot as plt\n",
    "import pandas as pd\n",
    "%matplotlib inline"
   ]
  },
  {
   "cell_type": "markdown",
   "metadata": {},
   "source": [
    "## v8\n",
    "\n",
    "$y'(x, y)=xy + y^2$\n",
    "and\n",
    "$y(0)=0.6$"
   ]
  },
  {
   "cell_type": "code",
   "execution_count": 17,
   "metadata": {},
   "outputs": [],
   "source": [
    "def check(a, b, N, y0):\n",
    "    \n",
    "    if type(a) is not int and type(a) is not float:\n",
    "        print('type left (x0) must int or float')\n",
    "        return 1    \n",
    "    if type(b) is not int and type(b) is not float:\n",
    "        print('type right (xn) int or float')\n",
    "        return 1\n",
    "    if type(y0) is not int and type(y0) is not float:\n",
    "        print('type y0 must int or float')\n",
    "        return 1\n",
    "    if type(N) is not int:\n",
    "        print('type N must int')\n",
    "        return 1\n",
    "    if -1000 > a  or a > 1000 or -1000 > b or b > 1000 or -1000 > y0 or y0 > 1000:\n",
    "        print('x0/xn/y0 must be between interval [-1000, 1000]')\n",
    "        return 1\n",
    "    if a >= b:\n",
    "        print('x0 must be lower than xn')\n",
    "        return 1\n",
    "    if b - a >= 100:\n",
    "        print('difference between xn and x0 must be lower than 100')\n",
    "        return 1\n",
    "    if 0 > N or N >= 1000:\n",
    "        print('N must be lower 1000')\n",
    "        return 1\n",
    "    return 0\n",
    "    "
   ]
  },
  {
   "cell_type": "code",
   "execution_count": 18,
   "metadata": {},
   "outputs": [],
   "source": [
    "def fun(x,y):\n",
    "    return x*y + y**2"
   ]
  },
  {
   "cell_type": "code",
   "execution_count": 19,
   "metadata": {},
   "outputs": [],
   "source": [
    "def approximation(x, y, h):\n",
    "    k1 = fun(x, y)\n",
    "    k2 = fun(x + h / 2, y + k1 * h / 2)\n",
    "    k3 = fun(x + h / 2, y + k2 * h / 2)\n",
    "    k4 = fun(x + h, y + k3 * h)\n",
    "    return y + h * (k1 + 2 * k2 + 2 * k3 + k4) / 6"
   ]
  },
  {
   "cell_type": "code",
   "execution_count": 29,
   "metadata": {},
   "outputs": [],
   "source": [
    "def run(x0=0, y0=0.6, N=10, xn=1):\n",
    "    if check(a=x0, b=xn, N=N, y0=y0):\n",
    "        return\n",
    "    \n",
    "    h = round((xn-x0) / N, 1000)\n",
    "    x = np.arange(x0, xn+h, h)\n",
    "    print('x = ',x)\n",
    "    y = [y0]\n",
    "    for xi in x[:-1]:\n",
    "        y.append(approximation(xi, y[-1], h))\n",
    "    print('y = ', y)\n",
    "    plt.plot(x,y)\n",
    "    return pd.DataFrame(list(zip(x,y)), columns=['x', 'y'])"
   ]
  },
  {
   "cell_type": "code",
   "execution_count": 30,
   "metadata": {},
   "outputs": [
    {
     "name": "stdout",
     "output_type": "stream",
     "text": [
      "x =  [0.  0.1 0.2 0.3 0.4 0.5 0.6 0.7 0.8 0.9 1. ]\n",
      "y =  [0.6, 0.6415657525795434, 0.6962286472598685, 0.7679493951674132, 0.8626687283239663, 0.9896238060442617, 1.1638840143410731, 1.4116594437563688, 1.7826991116565718, 2.383967550706391, 3.494127064289456]\n"
     ]
    },
    {
     "data": {
      "text/html": [
       "<div>\n",
       "<style scoped>\n",
       "    .dataframe tbody tr th:only-of-type {\n",
       "        vertical-align: middle;\n",
       "    }\n",
       "\n",
       "    .dataframe tbody tr th {\n",
       "        vertical-align: top;\n",
       "    }\n",
       "\n",
       "    .dataframe thead th {\n",
       "        text-align: right;\n",
       "    }\n",
       "</style>\n",
       "<table border=\"1\" class=\"dataframe\">\n",
       "  <thead>\n",
       "    <tr style=\"text-align: right;\">\n",
       "      <th></th>\n",
       "      <th>x</th>\n",
       "      <th>y</th>\n",
       "    </tr>\n",
       "  </thead>\n",
       "  <tbody>\n",
       "    <tr>\n",
       "      <th>0</th>\n",
       "      <td>0.0</td>\n",
       "      <td>0.600000</td>\n",
       "    </tr>\n",
       "    <tr>\n",
       "      <th>1</th>\n",
       "      <td>0.1</td>\n",
       "      <td>0.641566</td>\n",
       "    </tr>\n",
       "    <tr>\n",
       "      <th>2</th>\n",
       "      <td>0.2</td>\n",
       "      <td>0.696229</td>\n",
       "    </tr>\n",
       "    <tr>\n",
       "      <th>3</th>\n",
       "      <td>0.3</td>\n",
       "      <td>0.767949</td>\n",
       "    </tr>\n",
       "    <tr>\n",
       "      <th>4</th>\n",
       "      <td>0.4</td>\n",
       "      <td>0.862669</td>\n",
       "    </tr>\n",
       "    <tr>\n",
       "      <th>5</th>\n",
       "      <td>0.5</td>\n",
       "      <td>0.989624</td>\n",
       "    </tr>\n",
       "    <tr>\n",
       "      <th>6</th>\n",
       "      <td>0.6</td>\n",
       "      <td>1.163884</td>\n",
       "    </tr>\n",
       "    <tr>\n",
       "      <th>7</th>\n",
       "      <td>0.7</td>\n",
       "      <td>1.411659</td>\n",
       "    </tr>\n",
       "    <tr>\n",
       "      <th>8</th>\n",
       "      <td>0.8</td>\n",
       "      <td>1.782699</td>\n",
       "    </tr>\n",
       "    <tr>\n",
       "      <th>9</th>\n",
       "      <td>0.9</td>\n",
       "      <td>2.383968</td>\n",
       "    </tr>\n",
       "    <tr>\n",
       "      <th>10</th>\n",
       "      <td>1.0</td>\n",
       "      <td>3.494127</td>\n",
       "    </tr>\n",
       "  </tbody>\n",
       "</table>\n",
       "</div>"
      ],
      "text/plain": [
       "      x         y\n",
       "0   0.0  0.600000\n",
       "1   0.1  0.641566\n",
       "2   0.2  0.696229\n",
       "3   0.3  0.767949\n",
       "4   0.4  0.862669\n",
       "5   0.5  0.989624\n",
       "6   0.6  1.163884\n",
       "7   0.7  1.411659\n",
       "8   0.8  1.782699\n",
       "9   0.9  2.383968\n",
       "10  1.0  3.494127"
      ]
     },
     "execution_count": 30,
     "metadata": {},
     "output_type": "execute_result"
    },
    {
     "data": {
      "image/png": "[encoded data removed]",
      "text/plain": [
       "<Figure size 432x288 with 1 Axes>"
      ]
     },
     "metadata": {
      "needs_background": "light"
     },
     "output_type": "display_data"
    }
   ],
   "source": [
    "run()"
   ]
  },
  {
   "cell_type": "code",
   "execution_count": 31,
   "metadata": {},
   "outputs": [
    {
     "name": "stdout",
     "output_type": "stream",
     "text": [
      "x0/xn/y0 must be between interval [-1000, 1000]\n",
      "\n",
      "difference between xn and x0 must be lower than 100\n",
      "\n",
      "x0 must be lower than xn\n",
      "\n",
      "N must be lower 1000\n",
      "\n",
      "type y0 must int or float\n",
      "\n",
      "type left (x0) must int or float\n",
      "\n",
      "type right (xn) int or float\n",
      "\n",
      "type N must int\n",
      "\n"
     ]
    }
   ],
   "source": [
    "a, b, N, y0 = 1000, 1001, 100, 0\n",
    "run(x0=a, xn=b, N=N, y0=y0)\n",
    "print()\n",
    "\n",
    "a, b, N, y0 = 0, 101, 100, 0\n",
    "run(x0=a, xn=b, N=N, y0=y0)\n",
    "print()\n",
    "\n",
    "a, b, N, y0 = 2, 1, 100, 0\n",
    "run(x0=a, xn=b, N=N, y0=y0)\n",
    "print()\n",
    "\n",
    "a, b, N, y0 = 0, 1, 1000, 0\n",
    "run(x0=a, xn=b, N=N, y0=y0)\n",
    "print()\n",
    "\n",
    "a, b, N, y0 = 1000, 1001, 100, 'a'\n",
    "run(x0=a, xn=b, N=N, y0=y0)\n",
    "print()\n",
    "\n",
    "a, b, N, y0 = 'a', 10, 100, 0\n",
    "run(x0=a, xn=b, N=N, y0=y0)\n",
    "print()\n",
    "\n",
    "a, b, N, y0 = 1, 'a', 100, 0\n",
    "run(x0=a, xn=b, N=N, y0=y0)\n",
    "print()\n",
    "\n",
    "a, b, N, y0 = 1, 2, 0.1, 0\n",
    "run(x0=a, xn=b, N=N, y0=y0)\n",
    "print()"
   ]
  },
  {
   "cell_type": "code",
   "execution_count": null,
   "metadata": {},
   "outputs": [],
   "source": []
  }
 ],
 "metadata": {
  "kernelspec": {
   "display_name": "Python 3",
   "language": "python",
   "name": "python3"
  },
  "language_info": {
   "codemirror_mode": {
    "name": "ipython",
    "version": 3
   },
   "file_extension": ".py",
   "mimetype": "text/x-python",
   "name": "python",
   "nbconvert_exporter": "python",
   "pygments_lexer": "ipython3",
   "version": "3.7.2"
  }
 },
 "nbformat": 4,
 "nbformat_minor": 2
}

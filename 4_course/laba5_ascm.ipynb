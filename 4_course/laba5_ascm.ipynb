{
 "cells": [
  {
   "cell_type": "code",
   "execution_count": 1,
   "metadata": {},
   "outputs": [],
   "source": [
    "import pandas as pd\n",
    "import numpy as np\n",
    "import matplotlib.pyplot as plt"
   ]
  },
  {
   "cell_type": "code",
   "execution_count": 26,
   "metadata": {},
   "outputs": [],
   "source": [
    "def simplex_method_2(user=False):\n",
    "    if user:\n",
    "        val, b, cost = user_input()\n",
    "    else:\n",
    "        # val = np.array([[0.18, 0.24, 1.2], [10, 8, 200], [15, 1, 1.5]])\n",
    "        # b = np.array([12., 1000., 450.])\n",
    "        # cost = np.array([1, 1.1, 7.5])\n",
    "\n",
    "        # val = np.array([[3, 1], [1, 2], [1, 6]])\n",
    "        # b = np.array([9., 8., 12.])\n",
    "        # cost = np.array([4, 6])\n",
    "\n",
    "        val = np.array([[1, 5], [3, 2], [2, 4], [2, 2], [1, 0]])\n",
    "        b = np.array([10., 12., 16., 10, 1])\n",
    "        cost = np.array([2, 3])\n",
    "\n",
    "        # val = np.array([[26.5, 7.8, 0, 0], [51, 26, 45.7, 0], [0, 0, 5, 72.5]])\n",
    "        # b = np.array([21., 30., 500.])\n",
    "        # cost = np.array([14.4, 16, 12.8, 10.5])\n",
    "\n",
    "    len_return = len(cost)\n",
    "    val = val.T\n",
    "    cost, b = np.array(b, dtype=float), np.array(cost, dtype=float)\n",
    "    cost *= -1\n",
    "    b_f = 0\n",
    "    val = np.concatenate((val, np.eye(len(b))), axis=1)\n",
    "    cost = np.concatenate((cost, np.zeros(len(b))))\n",
    "\n",
    "    row = [f'x{i + 1}' for i in range(len(cost) - len(b), len(cost))]\n",
    "    col = [f'x{i + 1}' for i in range(val.shape[1])]\n",
    "\n",
    "    while (cost < 0).any():\n",
    "        col_i = np.nanargmax(np.where(cost < 0, np.absolute(cost), -np.inf))\n",
    "        row_i = np.nanargmin(np.where(b / val[:, col_i] < 0, np.inf, b / val[:, col_i]))\n",
    "        row[int(row_i)], col[int(col_i)] = col[int(col_i)], row[int(row_i)]\n",
    "\n",
    "        b[row_i] = b[row_i] / val[row_i, col_i]\n",
    "        val[row_i, :] = val[row_i, :] / val[row_i, col_i]\n",
    "\n",
    "        for i in range(len(b)):\n",
    "            if i != row_i:\n",
    "                b[i] -= val[i, col_i] * b[row_i]\n",
    "                val[i, :] -= val[i, col_i] * val[row_i, :]\n",
    "\n",
    "        b_f -= cost[col_i] * b[row_i]\n",
    "        cost -= cost[col_i] * val[row_i, :]\n",
    "\n",
    "    print(row, col, cost, b)\n",
    "    return cost[-1 * len_return:]"
   ]
  },
  {
   "cell_type": "code",
   "execution_count": null,
   "metadata": {},
   "outputs": [],
   "source": [
    "def simplex_method(user=False):\n",
    "    if user:\n",
    "        val, b, cost = user_input()\n",
    "    else:\n",
    "        val = np.array([[0.18, 0.24, 1.2],[10,8,200],[15,1,1.5]])\n",
    "        b = np.array([12,1000,450])\n",
    "        cost = np.array([1,1.1,7.5, 0])\n",
    "        \n",
    "    val *= -1\n",
    "    cost *= -1\n",
    "    b *= -1\n",
    "    val = np.concatenate((val, np.eye(len(b))), axis=1)\n",
    "    \n",
    "    row = [f'x{i+1}' for i in range(len(cost), len(cost)+len(b))]\n",
    "    col = [f'x{i+1}' for i in range(len(val))]\n",
    "    \n",
    "    while (val[:,0] < 0).any() == True:\n",
    "        col_i = np.argmax(np.absolute(cost[:-1]))\n",
    "        row_i = np.argmin(b/val[:,i])\n",
    "        \n",
    "        val[row_i,:] = val[row_i,:] / val[row_i, col_i]\n",
    "        b[row_i] = b[row_i] / val[row_i, col_i]\n",
    "        \n",
    "        for i in range(len(b)):\n",
    "            if i != row_i:\n",
    "                val[i,:] -= val[i, col_i] * val[row_i,:]\n",
    "                b[i] -= val[i, col_i] * b[row_i]\n",
    "                        \n",
    "        "
   ]
  },
  {
   "cell_type": "code",
   "execution_count": 12,
   "metadata": {},
   "outputs": [],
   "source": [
    "def user_input():\n",
    "    try:\n",
    "        s = int(input('количество питательных веществ: '))\n",
    "        check(s, 100, 'слишком большое количество питательных веществ', 1, \n",
    "              'слишком мальнькое количество питательных веществ')\n",
    "\n",
    "        p = int(input('количество единиц продукции: '))\n",
    "        check(p, 100, 'слишком большое количество единиц продукции', 1, \n",
    "              'слишком маленькое количество единиц продукции')\n",
    "        \n",
    "        m, c = [], []\n",
    "        values = []\n",
    "        for i in range(s):\n",
    "            m_i = float(input(f'min норма питательного вещества №{i+1}: '))\n",
    "            check(m_i, 100, f'слишком большая min норма питательного вещества №{i+1}', 0, \n",
    "                  f'слишком маленькая min норма питательного вещества №{i+1}')\n",
    "            \n",
    "            m.append(m_i)\n",
    "            val_i = []\n",
    "            for j in range(p):\n",
    "                val_i_j = float(input(f'количество единиц питательного вещества в продукции №{j+1}: '))\n",
    "                check(val_i_j, 100, f'слишком большое количество единиц питательного вещества в продукции №{j+1}', 0,\n",
    "                      f'слишком маленькое количество единиц питательного вещества в продукции №{j+1}')\n",
    "\n",
    "                val_i.append(val_i_j)\n",
    "            values.append(val_i)\n",
    "        \n",
    "        for i in range(p):\n",
    "            с_i = float(input(f'стоимость единицы продукта №{i+1}: '))\n",
    "            check(с_i, 100, f'слишком большая стоимость единицы продукта №{i+1}', 0,\n",
    "                      f'слишком маленькая стоимость единицы продукта №{i+1}')\n",
    "\n",
    "            c.append(с_i)\n",
    "        c.append(0)\n",
    "        \n",
    "        return np.array(values), np.array(m), np.array(c)\n",
    "    \n",
    "    except ValueError:\n",
    "        print('error = тип не совпадает с нужным')\n",
    "    except Exception as e:\n",
    "        print('error =', e)\n",
    "    finally:\n",
    "        answer = int(input('повторить ввод? 1 - yes; 0 - no: \\n'))\n",
    "        if answer:\n",
    "            print('\\n------------------------------------------------------------\\n')\n",
    "            user_input()\n"
   ]
  },
  {
   "cell_type": "code",
   "execution_count": 13,
   "metadata": {},
   "outputs": [
    {
     "name": "stdout",
     "output_type": "stream",
     "text": [
      "количество питательных веществ: 2\n",
      "количество единиц продукции: 2\n",
      "max норма питательного вещества №1: 3\n",
      "количество единиц питательного вещества в продукции №1: 1\n",
      "количество единиц питательного вещества в продукции №2: 2\n",
      "max норма питательного вещества №2: 4\n",
      "количество единиц питательного вещества в продукции №1: 2\n",
      "количество единиц питательного вещества в продукции №2: 3\n",
      "стоимость единицы продукта №1: 4\n",
      "стоимость единицы продукта №2: 4\n",
      "повторить ввод? 1 - yes; 0 - no: \n",
      "0\n",
      "[3.0, 4.0] [4, 4]\n"
     ]
    },
    {
     "data": {
      "text/html": [
       "<div>\n",
       "<style scoped>\n",
       "    .dataframe tbody tr th:only-of-type {\n",
       "        vertical-align: middle;\n",
       "    }\n",
       "\n",
       "    .dataframe tbody tr th {\n",
       "        vertical-align: top;\n",
       "    }\n",
       "\n",
       "    .dataframe thead th {\n",
       "        text-align: right;\n",
       "    }\n",
       "</style>\n",
       "<table border=\"1\" class=\"dataframe\">\n",
       "  <thead>\n",
       "    <tr style=\"text-align: right;\">\n",
       "      <th></th>\n",
       "      <th>p0</th>\n",
       "      <th>p1</th>\n",
       "    </tr>\n",
       "  </thead>\n",
       "  <tbody>\n",
       "    <tr>\n",
       "      <th>S0</th>\n",
       "      <td>1.0</td>\n",
       "      <td>2.0</td>\n",
       "    </tr>\n",
       "    <tr>\n",
       "      <th>S1</th>\n",
       "      <td>2.0</td>\n",
       "      <td>3.0</td>\n",
       "    </tr>\n",
       "  </tbody>\n",
       "</table>\n",
       "</div>"
      ],
      "text/plain": [
       "     p0   p1\n",
       "S0  1.0  2.0\n",
       "S1  2.0  3.0"
      ]
     },
     "execution_count": 13,
     "metadata": {},
     "output_type": "execute_result"
    }
   ],
   "source": [
    "df, min_v, cost = user_input()\n",
    "print(min_v, cost)\n",
    "df"
   ]
  },
  {
   "cell_type": "code",
   "execution_count": 7,
   "metadata": {},
   "outputs": [],
   "source": [
    "def check(v, max_v, max_err_m, min_v, min_err_m):\n",
    "    \n",
    "    if v > max_v:\n",
    "        raise Exception(max_err_m)\n",
    "    if v < min_v:\n",
    "        raise Exception(min_err_m)\n"
   ]
  },
  {
   "cell_type": "code",
   "execution_count": 25,
   "metadata": {},
   "outputs": [
    {
     "data": {
      "text/plain": [
       "True"
      ]
     },
     "execution_count": 25,
     "metadata": {},
     "output_type": "execute_result"
    }
   ],
   "source": [
    "a = np.concatenate((np.eye(3), np.eye(3)), axis=1)\n",
    "(a[:,0]<=0).any() == True"
   ]
  },
  {
   "cell_type": "code",
   "execution_count": null,
   "metadata": {},
   "outputs": [],
   "source": []
  }
 ],
 "metadata": {
  "kernelspec": {
   "display_name": "Python 3",
   "language": "python",
   "name": "python3"
  },
  "language_info": {
   "codemirror_mode": {
    "name": "ipython",
    "version": 3
   },
   "file_extension": ".py",
   "mimetype": "text/x-python",
   "name": "python",
   "nbconvert_exporter": "python",
   "pygments_lexer": "ipython3",
   "version": "3.7.2"
  }
 },
 "nbformat": 4,
 "nbformat_minor": 2
}

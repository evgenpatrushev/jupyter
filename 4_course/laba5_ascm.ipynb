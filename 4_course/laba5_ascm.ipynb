{
 "cells": [
  {
   "cell_type": "code",
   "execution_count": 2,
   "metadata": {},
   "outputs": [],
   "source": [
    "import pandas as pd\n",
    "import numpy as np\n",
    "import matplotlib.pyplot as plt"
   ]
  },
  {
   "cell_type": "code",
   "execution_count": 3,
   "metadata": {},
   "outputs": [],
   "source": [
    "def simplex_method_2(user=False):\n",
    "    if user:\n",
    "        val, b, cost = user_input()\n",
    "    else:\n",
    "        val = np.array([[0.18, 0.24, 1.2], [10, 8, 200], [15, 1, 1.5]])\n",
    "        b = np.array([12., 1000., 450.])\n",
    "        cost = np.array([1, 1.1, 7.5])\n",
    "\n",
    "        # val = np.array([[3, 1], [1, 2], [1, 6]])\n",
    "        # b = np.array([9., 8., 12.])\n",
    "        # cost = np.array([4, 6])\n",
    "\n",
    "        # val = np.array([[1, 5], [3, 2], [2, 4], [2, 2], [1, 0]])\n",
    "        # b = np.array([10., 12., 16., 10, 1])\n",
    "        # cost = np.array([2, 3])\n",
    "\n",
    "        # val = np.array([[26.5, 7.8, 0, 0], [51, 26, 45.7, 0], [0, 0, 5, 72.5]])\n",
    "        # b = np.array([21., 30., 500.])\n",
    "        # cost = np.array([14.4, 16, 12.8, 10.5])\n",
    "    f = np.array(cost)\n",
    "    len_return = len(cost)\n",
    "    val = val.T\n",
    "    cost, b = np.array(b, dtype=float), np.array(cost, dtype=float)\n",
    "    cost *= -1\n",
    "    b_f = 0\n",
    "    val = np.concatenate((val, np.eye(len(b))), axis=1)\n",
    "    cost = np.concatenate((cost, np.zeros(len(b))))\n",
    "\n",
    "    row = [f'x{i + 1}' for i in range(len(cost) - len(b), len(cost))]\n",
    "    col = [f'x{i + 1}' for i in range(val.shape[1])]\n",
    "\n",
    "    while (cost < 0).any():\n",
    "        col_i = np.nanargmax(np.where(cost < 0, np.absolute(cost), -np.inf))\n",
    "        row_i = np.nanargmin(np.where(b / val[:, col_i] < 0, np.inf, b / val[:, col_i]))\n",
    "        row[int(row_i)], col[int(col_i)] = col[int(col_i)], row[int(row_i)]\n",
    "\n",
    "        b[row_i] = b[row_i] / val[row_i, col_i]\n",
    "        val[row_i, :] = val[row_i, :] / val[row_i, col_i]\n",
    "\n",
    "        for i in range(len(b)):\n",
    "            if i != row_i:\n",
    "                b[i] -= val[i, col_i] * b[row_i]\n",
    "                val[i, :] -= val[i, col_i] * val[row_i, :]\n",
    "\n",
    "        b_f -= cost[col_i] * b[row_i]\n",
    "        cost -= cost[col_i] * val[row_i, :]\n",
    "\n",
    "    return cost[-1 * len_return:], np.dot(np.array(cost[-1 * len_return:]), f)"
   ]
  },
  {
   "cell_type": "code",
   "execution_count": 4,
   "metadata": {},
   "outputs": [],
   "source": [
    "def user_input():\n",
    "    try:\n",
    "        s = int(input('количество питательных веществ: '))\n",
    "        check(s, 100, 'слишком большое количество питательных веществ', 2, \n",
    "              'слишком мальнькое количество питательных веществ')\n",
    "        p = int(input('количество единиц продукции: '))\n",
    "        check(p, 100, 'слишком большое количество единиц продукции', 2, \n",
    "              'слишком маленькое количество единиц продукции')\n",
    "        m, c = [], []\n",
    "        values = []\n",
    "        for i in range(s):\n",
    "            m_i = float(input(f'min норма питательного вещества №{i+1}: '))\n",
    "            check(m_i, 100, f'слишком большая min норма питательного вещества №{i+1}', 0, \n",
    "                  f'слишком маленькая min норма питательного вещества №{i+1}')         \n",
    "            m.append(m_i)\n",
    "            val_i = []\n",
    "            for j in range(p):\n",
    "                val_i_j = float(input(f'количество единиц питательного вещества в продукции №{j+1}: '))\n",
    "                check(val_i_j, 100, f'слишком большое количество единиц питательного вещества в продукции №{j+1}', 0,\n",
    "                      f'слишком маленькое количество единиц питательного вещества в продукции №{j+1}')\n",
    "                val_i.append(val_i_j)\n",
    "            values.append(val_i)\n",
    "        \n",
    "        for i in range(p):\n",
    "            с_i = float(input(f'стоимость единицы продукта №{i+1}: '))\n",
    "            check(с_i, 100, f'слишком большая стоимость единицы продукта №{i+1}', 0,\n",
    "                      f'слишком маленькая стоимость единицы продукта №{i+1}')\n",
    "            c.append(с_i)\n",
    "        \n",
    "        return np.array(values), np.array(m), np.array(c)\n",
    "    \n",
    "    except ValueError:\n",
    "        print('error = тип не совпадает с нужным')\n",
    "    except Exception as e:\n",
    "        print('error =', e)\n",
    "    finally:\n",
    "        answer = int(input('повторить ввод? 1 - yes; 0 - no: \\n'))\n",
    "        if answer:\n",
    "            print('\\n------------------------------------------------------------\\n')\n",
    "            user_input()\n"
   ]
  },
  {
   "cell_type": "code",
   "execution_count": 5,
   "metadata": {},
   "outputs": [
    {
     "name": "stdout",
     "output_type": "stream",
     "text": [
      "количество питательных веществ: -1\n",
      "error = name 'check' is not defined\n",
      "повторить ввод? 1 - yes; 0 - no: \n",
      "0\n"
     ]
    }
   ],
   "source": [
    "user_input()"
   ]
  },
  {
   "cell_type": "code",
   "execution_count": 6,
   "metadata": {},
   "outputs": [],
   "source": [
    "def check(v, max_v, max_err_m, min_v, min_err_m):\n",
    "    \n",
    "    if v > max_v:\n",
    "        raise Exception(max_err_m)\n",
    "    if v < min_v:\n",
    "        raise Exception(min_err_m)\n"
   ]
  },
  {
   "cell_type": "code",
   "execution_count": 7,
   "metadata": {},
   "outputs": [
    {
     "name": "stdout",
     "output_type": "stream",
     "text": [
      "Количество каждой продукции для минимальных затрат: [28.81429817 13.24106364  3.02964255], min_f = 66.10178727114211\n"
     ]
    }
   ],
   "source": [
    "x, f = simplex_method_2()\n",
    "print(f'Количество каждой продукции для минимальных затрат: {x}, min_f = {f}')"
   ]
  },
  {
   "cell_type": "code",
   "execution_count": 9,
   "metadata": {},
   "outputs": [
    {
     "name": "stdout",
     "output_type": "stream",
     "text": [
      "количество питательных веществ: 3\n",
      "количество единиц продукции: 2\n",
      "min норма питательного вещества №1: 1\n",
      "количество единиц питательного вещества в продукции №1: 2\n",
      "количество единиц питательного вещества в продукции №2: 1\n",
      "min норма питательного вещества №2: 3\n",
      "количество единиц питательного вещества в продукции №1: 2\n",
      "количество единиц питательного вещества в продукции №2: 2\n",
      "min норма питательного вещества №3: 10\n",
      "количество единиц питательного вещества в продукции №1: 1\n",
      "количество единиц питательного вещества в продукции №2: 2\n",
      "стоимость единицы продукта №1: 5\n",
      "стоимость единицы продукта №2: 8\n",
      "повторить ввод? 1 - yes; 0 - no: \n",
      "0\n",
      "Количество каждой продукции для минимальных затрат: [0. 5.], min_f = 40.0\n"
     ]
    }
   ],
   "source": [
    "x, f = simplex_method_2(user=True)\n",
    "print(f'Количество каждой продукции для минимальных затрат: {x}, min_f = {f}')"
   ]
  },
  {
   "cell_type": "code",
   "execution_count": null,
   "metadata": {},
   "outputs": [],
   "source": []
  }
 ],
 "metadata": {
  "kernelspec": {
   "display_name": "Python 3",
   "language": "python",
   "name": "python3"
  },
  "language_info": {
   "codemirror_mode": {
    "name": "ipython",
    "version": 3
   },
   "file_extension": ".py",
   "mimetype": "text/x-python",
   "name": "python",
   "nbconvert_exporter": "python",
   "pygments_lexer": "ipython3",
   "version": "3.8.0"
  }
 },
 "nbformat": 4,
 "nbformat_minor": 2
}

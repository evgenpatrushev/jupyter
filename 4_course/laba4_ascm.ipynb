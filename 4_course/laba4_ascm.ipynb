{
 "cells": [
  {
   "cell_type": "markdown",
   "metadata": {},
   "source": [
    "# Nelder–Mead method\n",
    "\n",
    "## v5 \n",
    "$(x1+10x2)^2 + 5(x3-x4)^2 + (x2-2x3)^4 + 10(x1-x4)^4$\n",
    "; x0 = [3;-1;0;1]"
   ]
  },
  {
   "cell_type": "code",
   "execution_count": 2,
   "metadata": {},
   "outputs": [],
   "source": [
    "import pandas as pd\n",
    "import numpy as np\n",
    "import matplotlib.pyplot as plt"
   ]
  },
  {
   "cell_type": "code",
   "execution_count": 22,
   "metadata": {},
   "outputs": [],
   "source": [
    "def f(x):\n",
    "    return (x[0]+10*x[1])**2 + 5*(x[2]-x[3])**2 + (x[1]-2*x[2])**4 + 10*(x[0]-x[3])**4"
   ]
  },
  {
   "cell_type": "code",
   "execution_count": 72,
   "metadata": {},
   "outputs": [],
   "source": [
    "def Nelder_Mead(x0=[3, -1, 0 , 1], end=1000):\n",
    "\n",
    "    alfa = 1\n",
    "    beta = 0.5\n",
    "    gamma = 2\n",
    "    \n",
    "    #check correct\n",
    "    x0 = np.array(x0, dtype=float)\n",
    "    \n",
    "    # init val\n",
    "    x1,x2,x3,x4 = x0.copy(), x0.copy(), x0.copy(), x0.copy()\n",
    "    x1[0] += 1\n",
    "    x2[1] += 1\n",
    "    x3[2] += 1\n",
    "    x4[3] += 1\n",
    "    x = np.array([x0,x1,x2,x3,x4])\n",
    "    y = np.array([f(x0), f(x1), f(x2) ,f(x3), f(x4)])\n",
    "\n",
    "    # SORT ARRAY OF VALUES\n",
    "    index = np.argsort(y)\n",
    "    x = x[index]\n",
    "    y = y[index]\n",
    "    print('before ------------')\n",
    "    print('y=', y, 'x=', x)\n",
    "    \n",
    "    i = 0\n",
    "    while i<end:\n",
    "        # b-best, g-good, w-worst\n",
    "        f_w, x_w = y[-1], x[-1]\n",
    "        f_b, x_b = y[0], x[0]\n",
    "        f_g, g_g = y[-2], x[-2]\n",
    "        \n",
    "        x_c = np.mean(x[:-1], axis=0)\n",
    "        x_r = (1 + alfa) * x_c - alfa * x_w\n",
    "        f_r = f(x_r)\n",
    "        if f_r < f_b:\n",
    "            x_e = x_c + gamma*(x_r-x_c)\n",
    "            \n",
    "            if f(x_e) < f_r:\n",
    "                x = np.insert(x[:-1], 0, x_e, axis=0)\n",
    "                y = np.insert(y[:-1], 0, f(x_e), axis=0)\n",
    "            else:\n",
    "                x = np.insert(x[:-1], 0, x_r, axis=0)\n",
    "                y = np.insert(y[:-1], 0, f_r, axis=0)\n",
    "                \n",
    "        elif f_b < f_r < f_g :\n",
    "            x = np.insert(x[:-1], 1, x_r, axis=0)\n",
    "            y = np.insert(y[:-1], 1, f_r, axis=0)\n",
    "            \n",
    "        elif f_g < f_r :\n",
    "            x_s = beta * x_w + (1 - beta) * x_c\n",
    "            f_s = f(x_s)\n",
    "            if f_s < f_w:\n",
    "                x = np.insert(x[:-1], 0, x_s, axis=0)\n",
    "                y = np.insert(y[:-1], 0, f_s, axis=0)\n",
    "                index = np.argsort(y)\n",
    "                x = x[index]\n",
    "                y = y[index]\n",
    "            else:\n",
    "                x = [x_b + (xi - x_b)/2 if xi != x_b else x_b for xi in x ]\n",
    "                y = [f(x0), f(x1), f(x2) ,f(x3), f(x4)]\n",
    "                index =np.argsort(y)\n",
    "                x = x[index]\n",
    "                y = y[index]        \n",
    "        i+=1\n",
    "    print('after ------------')\n",
    "    print('y=', y, 'x=', x)"
   ]
  },
  {
   "cell_type": "code",
   "execution_count": 73,
   "metadata": {},
   "outputs": [
    {
     "name": "stdout",
     "output_type": "stream",
     "text": [
      "before ------------\n",
      "y= [ 80. 174. 215. 290. 852.] x= [[ 3. -1.  0.  2.]\n",
      " [ 3.  0.  0.  1.]\n",
      " [ 3. -1.  0.  1.]\n",
      " [ 3. -1.  1.  1.]\n",
      " [ 4. -1.  0.  1.]]\n",
      "after ------------\n",
      "y= [3.61735849e-35 3.61898208e-35 4.24161812e-35 4.82307528e-35\n",
      " 5.05221834e-35] x= [[ 1.02403454e-09 -1.02403454e-10 -2.30328919e-10 -2.30328921e-10]\n",
      " [ 8.02593617e-10 -8.02593619e-11 -5.26957720e-10 -5.26957720e-10]\n",
      " [ 9.04259521e-10 -9.04259521e-11 -4.31762899e-10 -4.31762897e-10]\n",
      " [ 9.26568455e-10 -9.26568453e-11 -4.98736211e-10 -4.98736210e-10]\n",
      " [ 1.50681141e-09 -1.50681141e-10  7.35837049e-11  7.35837038e-11]]\n"
     ]
    }
   ],
   "source": [
    "Nelder_Mead(end=500)"
   ]
  },
  {
   "cell_type": "code",
   "execution_count": 57,
   "metadata": {},
   "outputs": [
    {
     "name": "stdout",
     "output_type": "stream",
     "text": [
      "before ------------\n",
      "y= [ 80 174 215 290 852] x= [[ 3 -1  0  2]\n",
      " [ 3  0  0  1]\n",
      " [ 3 -1  0  1]\n",
      " [ 3 -1  1  1]\n",
      " [ 4 -1  0  1]]\n",
      "after ------------\n",
      "y= [19 32 74 63 80] x= [[ 2  0  0  1]\n",
      " [ 1  0  0  1]\n",
      " [ 2  0  0  1]\n",
      " [ 2  0 -1  1]\n",
      " [ 3 -1  0  2]]\n"
     ]
    }
   ],
   "source": [
    "Nelder_Mead(end=10000)"
   ]
  },
  {
   "cell_type": "code",
   "execution_count": null,
   "metadata": {},
   "outputs": [],
   "source": []
  }
 ],
 "metadata": {
  "kernelspec": {
   "display_name": "Python 3",
   "language": "python",
   "name": "python3"
  },
  "language_info": {
   "codemirror_mode": {
    "name": "ipython",
    "version": 3
   },
   "file_extension": ".py",
   "mimetype": "text/x-python",
   "name": "python",
   "nbconvert_exporter": "python",
   "pygments_lexer": "ipython3",
   "version": "3.7.2"
  }
 },
 "nbformat": 4,
 "nbformat_minor": 2
}

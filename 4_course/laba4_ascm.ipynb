{
 "cells": [
  {
   "cell_type": "markdown",
   "metadata": {},
   "source": [
    "# Nelder–Mead method\n",
    "\n",
    "## v5 \n",
    "$(x1+10x2)^2 + 5(x3-x4)^2 + (x2-2x3)^4 + 10(x1-x4)^4$\n",
    "; x0 = [3;-1;0;1]"
   ]
  },
  {
   "cell_type": "code",
   "execution_count": 2,
   "metadata": {},
   "outputs": [],
   "source": [
    "import pandas as pd\n",
    "import numpy as np\n",
    "import matplotlib.pyplot as plt"
   ]
  },
  {
   "cell_type": "code",
   "execution_count": 3,
   "metadata": {},
   "outputs": [],
   "source": [
    "def f(x):\n",
    "    return (x[0]+10*x[1])**2 + 5*(x[2]-x[3])**2 + (x[1]-2*x[2])**4 + 10*(x[0]-x[3])**4"
   ]
  },
  {
   "cell_type": "code",
   "execution_count": 32,
   "metadata": {},
   "outputs": [],
   "source": [
    "def Nelder_Mead(x0=[3, -1, 0, 1], end=1000, delta=10**(-20)):\n",
    "    alfa = 1\n",
    "    beta = 0.5\n",
    "    gamma = 2\n",
    "    min_start = 10\n",
    "\n",
    "    # check correct\n",
    "    if check(x0, end, delta):\n",
    "        return 0\n",
    "    x0 = np.array(x0, dtype=float)\n",
    "\n",
    "    # init val\n",
    "    x1, x2, x3, x4 = x0.copy(), x0.copy(), x0.copy(), x0.copy()\n",
    "    x1[0] += 1\n",
    "    x2[1] += 1\n",
    "    x3[2] += 1\n",
    "    x4[3] += 1\n",
    "    x = np.array([x0, x1, x2, x3, x4])\n",
    "    y = np.array([f(x0), f(x1), f(x2), f(x3), f(x4)])\n",
    "\n",
    "    # SORT ARRAY OF VALUES\n",
    "    index = np.argsort(y)\n",
    "    x = x[index]\n",
    "    y = y[index]\n",
    "    print('before ------------')\n",
    "    print('y=', y, 'x=', x)\n",
    "\n",
    "    i = 0\n",
    "    while i < end and np.std(y) > delta:\n",
    "        # b-best, g-good, w-worst\n",
    "        f_w, x_w = y[-1], x[-1]\n",
    "        f_b, x_b = y[0], x[0]\n",
    "        f_g, g_g = y[-2], x[-2]\n",
    "\n",
    "        x_c = np.mean(x[:-1], axis=0)\n",
    "        x_r = (1 + alfa) * x_c - alfa * x_w\n",
    "        f_r = f(x_r)\n",
    "        if f_r < f_b:\n",
    "            x_e = x_c + gamma * (x_r - x_c)\n",
    "\n",
    "            if f(x_e) < f_r:\n",
    "                x = np.insert(x[:-1], 0, x_e, axis=0)\n",
    "                y = np.insert(y[:-1], 0, f(x_e), axis=0)\n",
    "            else:\n",
    "                x = np.insert(x[:-1], 0, x_r, axis=0)\n",
    "                y = np.insert(y[:-1], 0, f_r, axis=0)\n",
    "\n",
    "        elif f_b < f_r < f_g:\n",
    "            x = np.insert(x[:-1], 1, x_r, axis=0)\n",
    "            y = np.insert(y[:-1], 1, f_r, axis=0)\n",
    "\n",
    "        elif f_g < f_r:\n",
    "            x_s = beta * x_w + (1 - beta) * x_c\n",
    "            f_s = f(x_s)\n",
    "            if f_s < f_w:\n",
    "                x = np.insert(x[:-1], 0, x_s, axis=0)\n",
    "                y = np.insert(y[:-1], 0, f_s, axis=0)\n",
    "                index = np.argsort(y)\n",
    "                x = x[index]\n",
    "                y = y[index]\n",
    "            else:\n",
    "                x = np.array([x_b + (xi - x_b) / 2 if xi.all() != x_b.all() else x_b for xi in x])\n",
    "                y = np.array([f(x[0]), f(x[1]), f(x[2]), f(x[3]), f(x[4])])\n",
    "                index = np.argsort(y)\n",
    "                x = x[index]\n",
    "                y = y[index]\n",
    "        i += 1\n",
    "    print('after ------------')\n",
    "    print('y=', y, 'x=', x)\n",
    "    print(f'\\n\\n min_f={y[0]}, min_x={x[0]}')\n"
   ]
  },
  {
   "cell_type": "code",
   "execution_count": 33,
   "metadata": {},
   "outputs": [],
   "source": [
    "def check(x, end, delta):\n",
    "    for xi in x:\n",
    "        if type(xi) is not int and type(xi) is not float:\n",
    "            print('type x0 must int or float')\n",
    "            return 1 \n",
    "        if -100 > xi or xi > 100:\n",
    "            print('x0 must be between interval [-100, 100]')\n",
    "            return 1\n",
    "    \n",
    "    if type(delta) is not int and type(delta) is not float:\n",
    "        print('type delta must int or float')\n",
    "        return 1\n",
    "    \n",
    "    if type(end) is not int:\n",
    "        print('type end must int')\n",
    "        return 1\n",
    "    \n",
    "    if  -100 > delta or delta > 100:\n",
    "        print('delta must be between interval [-100, 100]')\n",
    "        return 1\n",
    "    \n",
    "    if 0 > end or end >= 1000:\n",
    "        print('end must be lower 1000 and more than 0')\n",
    "        return 1\n",
    "    \n",
    "    return 0"
   ]
  },
  {
   "cell_type": "code",
   "execution_count": 34,
   "metadata": {},
   "outputs": [
    {
     "name": "stdout",
     "output_type": "stream",
     "text": [
      "before ------------\n",
      "y= [ 80. 174. 215. 290. 852.] x= [[ 3. -1.  0.  2.]\n",
      " [ 3.  0.  0.  1.]\n",
      " [ 3. -1.  0.  1.]\n",
      " [ 3. -1.  1.  1.]\n",
      " [ 4. -1.  0.  1.]]\n",
      "after ------------\n",
      "y= [3.15890095e-20 3.24659601e-20 3.39055957e-20 4.17367594e-20\n",
      " 4.62165132e-20] x= [[-5.74224425e-06  5.74219108e-07 -4.68404174e-06 -4.68410334e-06]\n",
      " [-9.59280557e-06  9.59284619e-07 -5.83726278e-06 -5.83723689e-06]\n",
      " [ 2.37311545e-06 -2.37316228e-07 -4.66794812e-06 -4.66794062e-06]\n",
      " [-6.03804979e-06  6.03790388e-07 -5.50546971e-06 -5.50549090e-06]\n",
      " [-4.01638843e-06  4.01642360e-07 -6.24578577e-06 -6.24584425e-06]]\n",
      "\n",
      "\n",
      " min_f=3.158900950306943e-20, min_x=[-5.74224425e-06  5.74219108e-07 -4.68404174e-06 -4.68410334e-06]\n"
     ]
    }
   ],
   "source": [
    "Nelder_Mead(end=500)"
   ]
  },
  {
   "cell_type": "code",
   "execution_count": 27,
   "metadata": {},
   "outputs": [
    {
     "name": "stdout",
     "output_type": "stream",
     "text": [
      "end must be lower 1000 and more than 0\n",
      "delta must be between interval [-100, 100]\n",
      "delta must be between interval [-100, 100]\n",
      "x0 must be between interval [-100, 100]\n"
     ]
    },
    {
     "data": {
      "text/plain": [
       "0"
      ]
     },
     "execution_count": 27,
     "metadata": {},
     "output_type": "execute_result"
    }
   ],
   "source": [
    "Nelder_Mead(x0=[1,1,1,1], end=-1, delta=0.1)\n",
    "\n",
    "Nelder_Mead(x0=[1,1,1,1], end=1, delta=-101)\n",
    "\n",
    "Nelder_Mead(x0=[1,1,1,1], end=1, delta=101)\n",
    "\n",
    "Nelder_Mead(x0=[1,1,1,101], end=1, delta=0.1)"
   ]
  },
  {
   "cell_type": "code",
   "execution_count": null,
   "metadata": {},
   "outputs": [],
   "source": []
  }
 ],
 "metadata": {
  "kernelspec": {
   "display_name": "Python 3",
   "language": "python",
   "name": "python3"
  },
  "language_info": {
   "codemirror_mode": {
    "name": "ipython",
    "version": 3
   },
   "file_extension": ".py",
   "mimetype": "text/x-python",
   "name": "python",
   "nbconvert_exporter": "python",
   "pygments_lexer": "ipython3",
   "version": "3.8.0"
  }
 },
 "nbformat": 4,
 "nbformat_minor": 2
}

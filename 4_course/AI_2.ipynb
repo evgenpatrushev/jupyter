{
 "cells": [
  {
   "cell_type": "code",
   "execution_count": 21,
   "metadata": {},
   "outputs": [],
   "source": [
    "import pandas as pd\n",
    "import numpy as np\n",
    "import matplotlib.pyplot as plt"
   ]
  },
  {
   "cell_type": "code",
   "execution_count": 44,
   "metadata": {},
   "outputs": [],
   "source": [
    "def PNN(x=[[1,1,3],[1,2,2],[2,2,2],[1,1,4], [3,2,1]], y=[5, 5, 6, 6, 6], sigma=0.3):\n",
    "    x, y = np.array(x), np.array(y)\n",
    "    target_category = list(set(y))\n",
    "    pattern_layer = np.zeros(len(x))\n",
    "    \n",
    "    w1 = x\n",
    "    w2 = np.zeros((len(x), len(target_category)))\n",
    "    \n",
    "    for i, yi in enumerate(target_category):\n",
    "        w2[y==yi, i] = 1/len(y[y==yi])\n",
    "    \n",
    "    def predict(x_predict):\n",
    "        x_predict = np.array(x_predict)\n",
    "\n",
    "        for i, wj in enumerate(w1):\n",
    "            pattern_layer[i] = np.sum(np.exp(-(wj-x_predict)**2/sigma**2))\n",
    "             \n",
    "        summation_layer = np.dot(pattern_layer, w2)\n",
    "        \n",
    "        output_layer = target_category[np.argmax(summation_layer)]\n",
    "        \n",
    "        return output_layer\n",
    "    \n",
    "    return predict"
   ]
  },
  {
   "cell_type": "code",
   "execution_count": 49,
   "metadata": {},
   "outputs": [
    {
     "data": {
      "text/plain": [
       "('A', 'A', 'A', 'B', 'B', 'B', 'B')"
      ]
     },
     "execution_count": 49,
     "metadata": {},
     "output_type": "execute_result"
    }
   ],
   "source": [
    "x = [[1,1,2],[1,2,1],[2,2,1],[5,5,5]]\n",
    "y = ['A', 'A', 'A', 'B']\n",
    "pr = PNN(x, y)\n",
    "pr([1,2,1]), pr([1,1,2]), pr([1,2,2]), pr([5,5,5]), pr([5,5,4]), pr([6,6,5]), pr([5,4,4])"
   ]
  }
 ],
 "metadata": {
  "kernelspec": {
   "display_name": "Python 3",
   "language": "python",
   "name": "python3"
  },
  "language_info": {
   "codemirror_mode": {
    "name": "ipython",
    "version": 3
   },
   "file_extension": ".py",
   "mimetype": "text/x-python",
   "name": "python",
   "nbconvert_exporter": "python",
   "pygments_lexer": "ipython3",
   "version": "3.7.2"
  }
 },
 "nbformat": 4,
 "nbformat_minor": 2
}
